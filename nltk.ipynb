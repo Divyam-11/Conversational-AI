{
 "cells": [
  {
   "cell_type": "code",
   "id": "initial_id",
   "metadata": {
    "collapsed": true,
    "ExecuteTime": {
     "end_time": "2025-08-20T03:19:47.732493Z",
     "start_time": "2025-08-20T03:19:47.729375Z"
    }
   },
   "source": [
    "import nltk\n",
    "import pandas as pd\n",
    "from nltk.corpus import PlaintextCorpusReader, stopwords\n",
    "from pathlib import Path\n",
    "\n",
    "from nltk.corpus.reader import documents"
   ],
   "outputs": [],
   "execution_count": 62
  },
  {
   "metadata": {
    "ExecuteTime": {
     "end_time": "2025-08-20T03:19:47.760358Z",
     "start_time": "2025-08-20T03:19:47.754991Z"
    }
   },
   "cell_type": "code",
   "source": "nltk.download('punkt_tab')",
   "id": "fc51ce60fcfeecdb",
   "outputs": [
    {
     "name": "stderr",
     "output_type": "stream",
     "text": [
      "[nltk_data] Downloading package punkt_tab to\n",
      "[nltk_data]     /Users/divyam/nltk_data...\n",
      "[nltk_data]   Package punkt_tab is already up-to-date!\n"
     ]
    },
    {
     "data": {
      "text/plain": [
       "True"
      ]
     },
     "execution_count": 63,
     "metadata": {},
     "output_type": "execute_result"
    }
   ],
   "execution_count": 63
  },
  {
   "metadata": {
    "ExecuteTime": {
     "end_time": "2025-08-20T03:19:47.795533Z",
     "start_time": "2025-08-20T03:19:47.792375Z"
    }
   },
   "cell_type": "code",
   "source": [
    "path = \"dataset\"\n",
    "docs = PlaintextCorpusReader(path,'.*\\.txt')"
   ],
   "id": "f3e65322a9aa6515",
   "outputs": [
    {
     "name": "stderr",
     "output_type": "stream",
     "text": [
      "<>:2: SyntaxWarning: invalid escape sequence '\\.'\n",
      "<>:2: SyntaxWarning: invalid escape sequence '\\.'\n",
      "/var/folders/n1/pmp24v296pd80dfsymy4h0100000gn/T/ipykernel_74932/3366376250.py:2: SyntaxWarning: invalid escape sequence '\\.'\n",
      "  docs = PlaintextCorpusReader(path,'.*\\.txt')\n"
     ]
    }
   ],
   "execution_count": 64
  },
  {
   "metadata": {
    "ExecuteTime": {
     "end_time": "2025-08-20T03:35:47.883572Z",
     "start_time": "2025-08-20T03:35:47.876966Z"
    }
   },
   "cell_type": "code",
   "source": [
    "from nltk.corpus import PlaintextCorpusReader\n",
    "\n",
    "corpus_root = \"dataset\"\n",
    "wordlists = PlaintextCorpusReader(corpus_root, '.*\\.txt')\n",
    "\n",
    "# Store all file names\n",
    "filenames = wordlists.fileids()\n",
    "\n",
    "print(filenames)   # ['file1.txt', 'file2.txt', 'file3.txt', 'file4.txt']"
   ],
   "id": "9010d20fe1a902d1",
   "outputs": [
    {
     "name": "stdout",
     "output_type": "stream",
     "text": [
      "['1.txt', '2.txt', '3.txt', '4.txt']\n"
     ]
    },
    {
     "name": "stderr",
     "output_type": "stream",
     "text": [
      "<>:4: SyntaxWarning: invalid escape sequence '\\.'\n",
      "<>:4: SyntaxWarning: invalid escape sequence '\\.'\n",
      "/var/folders/n1/pmp24v296pd80dfsymy4h0100000gn/T/ipykernel_74932/1339599766.py:4: SyntaxWarning: invalid escape sequence '\\.'\n",
      "  wordlists = PlaintextCorpusReader(corpus_root, '.*\\.txt')\n"
     ]
    }
   ],
   "execution_count": 83
  },
  {
   "metadata": {
    "ExecuteTime": {
     "end_time": "2025-08-20T03:19:47.841136Z",
     "start_time": "2025-08-20T03:19:47.837004Z"
    }
   },
   "cell_type": "code",
   "source": "docs = [docs.raw(fileid) for fileid in docs.fileids()]",
   "id": "74953a01d317963b",
   "outputs": [],
   "execution_count": 65
  },
  {
   "metadata": {
    "ExecuteTime": {
     "end_time": "2025-08-20T03:19:47.877475Z",
     "start_time": "2025-08-20T03:19:47.874949Z"
    }
   },
   "cell_type": "code",
   "source": "docs",
   "id": "dec1408be5c03efe",
   "outputs": [
    {
     "data": {
      "text/plain": [
       "['Data Science is an important field of science',\n",
       " 'Machine learning is a field of Data Science',\n",
       " 'The cars are driven on the road',\n",
       " 'The trucks are driven on highway 234']"
      ]
     },
     "execution_count": 66,
     "metadata": {},
     "output_type": "execute_result"
    }
   ],
   "execution_count": 66
  },
  {
   "metadata": {
    "ExecuteTime": {
     "end_time": "2025-08-20T03:19:47.929814Z",
     "start_time": "2025-08-20T03:19:47.925995Z"
    }
   },
   "cell_type": "code",
   "source": [
    "norm_tokenize = []\n",
    "for doc in docs:\n",
    "    norm_tokenize.append([word.lower() for word in doc.split()])\n",
    "\n",
    "norm_tokenize"
   ],
   "id": "e710c0bb9e9d921c",
   "outputs": [
    {
     "data": {
      "text/plain": [
       "[['data', 'science', 'is', 'an', 'important', 'field', 'of', 'science'],\n",
       " ['machine', 'learning', 'is', 'a', 'field', 'of', 'data', 'science'],\n",
       " ['the', 'cars', 'are', 'driven', 'on', 'the', 'road'],\n",
       " ['the', 'trucks', 'are', 'driven', 'on', 'highway', '234']]"
      ]
     },
     "execution_count": 67,
     "metadata": {},
     "output_type": "execute_result"
    }
   ],
   "execution_count": 67
  },
  {
   "metadata": {
    "ExecuteTime": {
     "end_time": "2025-08-20T03:19:47.978021Z",
     "start_time": "2025-08-20T03:19:47.974434Z"
    }
   },
   "cell_type": "code",
   "source": [
    "norm_tokenize1 = []\n",
    "import re\n",
    "for doc in docs:\n",
    "    lower = ' '.join([word.lower() for word in doc.split()])\n",
    "    norm = re.sub('[^a-z\\s]','',lower)\n",
    "    norm_tokenize1.append(nltk.word_tokenize(norm))"
   ],
   "id": "bdbfbd077586db9f",
   "outputs": [
    {
     "name": "stderr",
     "output_type": "stream",
     "text": [
      "<>:5: SyntaxWarning: invalid escape sequence '\\s'\n",
      "<>:5: SyntaxWarning: invalid escape sequence '\\s'\n",
      "/var/folders/n1/pmp24v296pd80dfsymy4h0100000gn/T/ipykernel_74932/2117772255.py:5: SyntaxWarning: invalid escape sequence '\\s'\n",
      "  norm = re.sub('[^a-z\\s]','',lower)\n"
     ]
    }
   ],
   "execution_count": 68
  },
  {
   "metadata": {
    "ExecuteTime": {
     "end_time": "2025-08-20T03:19:48.032228Z",
     "start_time": "2025-08-20T03:19:48.029498Z"
    }
   },
   "cell_type": "code",
   "source": "norm_tokenize1",
   "id": "1316d190f41b11a9",
   "outputs": [
    {
     "data": {
      "text/plain": [
       "[['data', 'science', 'is', 'an', 'important', 'field', 'of', 'science'],\n",
       " ['machine', 'learning', 'is', 'a', 'field', 'of', 'data', 'science'],\n",
       " ['the', 'cars', 'are', 'driven', 'on', 'the', 'road'],\n",
       " ['the', 'trucks', 'are', 'driven', 'on', 'highway']]"
      ]
     },
     "execution_count": 69,
     "metadata": {},
     "output_type": "execute_result"
    }
   ],
   "execution_count": 69
  },
  {
   "metadata": {
    "ExecuteTime": {
     "end_time": "2025-08-20T03:19:48.077844Z",
     "start_time": "2025-08-20T03:19:48.074518Z"
    }
   },
   "cell_type": "code",
   "source": [
    "nltk.download('stopwords')\n",
    "stopwords_list = nltk.corpus.stopwords.words('english')\n",
    "nostop = []\n",
    "for doc in norm_tokenize1:\n",
    "   nostop.append([word for word in doc if word not in stopwords_list])"
   ],
   "id": "1787fad618b89275",
   "outputs": [
    {
     "name": "stderr",
     "output_type": "stream",
     "text": [
      "[nltk_data] Downloading package stopwords to\n",
      "[nltk_data]     /Users/divyam/nltk_data...\n",
      "[nltk_data]   Package stopwords is already up-to-date!\n"
     ]
    }
   ],
   "execution_count": 70
  },
  {
   "metadata": {
    "ExecuteTime": {
     "end_time": "2025-08-20T03:19:48.130220Z",
     "start_time": "2025-08-20T03:19:48.127054Z"
    }
   },
   "cell_type": "code",
   "source": "nostop",
   "id": "3b174a385d183687",
   "outputs": [
    {
     "data": {
      "text/plain": [
       "[['data', 'science', 'important', 'field', 'science'],\n",
       " ['machine', 'learning', 'field', 'data', 'science'],\n",
       " ['cars', 'driven', 'road'],\n",
       " ['trucks', 'driven', 'highway']]"
      ]
     },
     "execution_count": 71,
     "metadata": {},
     "output_type": "execute_result"
    }
   ],
   "execution_count": 71
  },
  {
   "metadata": {
    "ExecuteTime": {
     "end_time": "2025-08-20T03:19:48.182639Z",
     "start_time": "2025-08-20T03:19:48.177505Z"
    }
   },
   "cell_type": "code",
   "source": [
    "from nltk.stem import PorterStemmer\n",
    "ps = PorterStemmer()\n",
    "final = []\n",
    "for doc in nostop:\n",
    "    final.append(' '.join([ps.stem(word) for word in doc ]))\n",
    "nostop"
   ],
   "id": "1e2f4687c1c5ada4",
   "outputs": [
    {
     "data": {
      "text/plain": [
       "[['data', 'science', 'important', 'field', 'science'],\n",
       " ['machine', 'learning', 'field', 'data', 'science'],\n",
       " ['cars', 'driven', 'road'],\n",
       " ['trucks', 'driven', 'highway']]"
      ]
     },
     "execution_count": 72,
     "metadata": {},
     "output_type": "execute_result"
    }
   ],
   "execution_count": 72
  },
  {
   "metadata": {
    "ExecuteTime": {
     "end_time": "2025-08-20T03:19:48.238722Z",
     "start_time": "2025-08-20T03:19:48.234651Z"
    }
   },
   "cell_type": "code",
   "source": [
    "from nltk.stem import PorterStemmer\n",
    "ps = PorterStemmer()\n",
    "final = []\n",
    "for doc in nostop:\n",
    "    final.append(' '.join([ps.stem(word) for word in doc ]))\n",
    "nostop"
   ],
   "id": "561ebe7eba9307e",
   "outputs": [
    {
     "data": {
      "text/plain": [
       "[['data', 'science', 'important', 'field', 'science'],\n",
       " ['machine', 'learning', 'field', 'data', 'science'],\n",
       " ['cars', 'driven', 'road'],\n",
       " ['trucks', 'driven', 'highway']]"
      ]
     },
     "execution_count": 73,
     "metadata": {},
     "output_type": "execute_result"
    }
   ],
   "execution_count": 73
  },
  {
   "metadata": {
    "ExecuteTime": {
     "end_time": "2025-08-20T03:20:12.117910Z",
     "start_time": "2025-08-20T03:20:12.113751Z"
    }
   },
   "cell_type": "code",
   "source": "final1",
   "id": "f12a4020396aa34",
   "outputs": [
    {
     "data": {
      "text/plain": [
       "['dat sci import field sci',\n",
       " 'machin learn field dat sci',\n",
       " 'car driv road',\n",
       " 'truck driv highway']"
      ]
     },
     "execution_count": 77,
     "metadata": {},
     "output_type": "execute_result"
    }
   ],
   "execution_count": 77
  },
  {
   "metadata": {
    "ExecuteTime": {
     "end_time": "2025-08-20T03:19:48.305693Z",
     "start_time": "2025-08-20T03:19:48.301140Z"
    }
   },
   "cell_type": "code",
   "source": [
    "from nltk.stem import LancasterStemmer\n",
    "ls = LancasterStemmer()\n",
    "final1 = []\n",
    "for doc in nostop:\n",
    "    final1.append(' '.join([ls.stem(word) for word in doc ]))\n",
    "nostop"
   ],
   "id": "ff44b0e24636b4dc",
   "outputs": [
    {
     "data": {
      "text/plain": [
       "[['data', 'science', 'important', 'field', 'science'],\n",
       " ['machine', 'learning', 'field', 'data', 'science'],\n",
       " ['cars', 'driven', 'road'],\n",
       " ['trucks', 'driven', 'highway']]"
      ]
     },
     "execution_count": 74,
     "metadata": {},
     "output_type": "execute_result"
    }
   ],
   "execution_count": 74
  },
  {
   "metadata": {
    "ExecuteTime": {
     "end_time": "2025-08-20T03:19:57.840767Z",
     "start_time": "2025-08-20T03:19:57.836372Z"
    }
   },
   "cell_type": "code",
   "source": "final1",
   "id": "c2fb6c8e99ed413e",
   "outputs": [
    {
     "data": {
      "text/plain": [
       "['dat sci import field sci',\n",
       " 'machin learn field dat sci',\n",
       " 'car driv road',\n",
       " 'truck driv highway']"
      ]
     },
     "execution_count": 75,
     "metadata": {},
     "output_type": "execute_result"
    }
   ],
   "execution_count": 75
  },
  {
   "metadata": {
    "ExecuteTime": {
     "end_time": "2025-08-20T03:26:51.472350Z",
     "start_time": "2025-08-20T03:26:46.545742Z"
    }
   },
   "cell_type": "code",
   "source": [
    "nltk.download('wordnet')\n",
    "from nltk.stem import WordNetLemmatizer\n",
    "final2 =[]\n",
    "wn = WordNetLemmatizer()\n",
    "for doc in nostop:\n",
    "    final2.append((' '.join([wn.lemmatize(word) for word in doc])))"
   ],
   "id": "c30adef075c731ce",
   "outputs": [
    {
     "name": "stderr",
     "output_type": "stream",
     "text": [
      "[nltk_data] Downloading package wordnet to /Users/divyam/nltk_data...\n"
     ]
    }
   ],
   "execution_count": 78
  },
  {
   "metadata": {
    "ExecuteTime": {
     "end_time": "2025-08-20T03:26:51.497953Z",
     "start_time": "2025-08-20T03:26:51.494703Z"
    }
   },
   "cell_type": "code",
   "source": "final2",
   "id": "a81dc432789c7217",
   "outputs": [
    {
     "data": {
      "text/plain": [
       "['data science important field science',\n",
       " 'machine learning field data science',\n",
       " 'car driven road',\n",
       " 'truck driven highway']"
      ]
     },
     "execution_count": 79,
     "metadata": {},
     "output_type": "execute_result"
    }
   ],
   "execution_count": 79
  },
  {
   "metadata": {},
   "cell_type": "markdown",
   "source": "### TDM",
   "id": "ae559e034996f65a"
  },
  {
   "metadata": {
    "ExecuteTime": {
     "end_time": "2025-08-20T03:35:57.488367Z",
     "start_time": "2025-08-20T03:35:57.480946Z"
    }
   },
   "cell_type": "code",
   "source": [
    "doc_count = {}\n",
    "for i in range(len(final)):\n",
    "    word_count = {}\n",
    "    for word in final[i].split():\n",
    "        if word not in word_count.keys():\n",
    "            word_count[word] = 1\n",
    "    doc_count[filenames[i]] = word_count\n"
   ],
   "id": "c93a6092ae09d16f",
   "outputs": [],
   "execution_count": 84
  },
  {
   "metadata": {
    "ExecuteTime": {
     "end_time": "2025-08-20T03:36:05.435383Z",
     "start_time": "2025-08-20T03:36:05.409795Z"
    }
   },
   "cell_type": "code",
   "source": "doc_count",
   "id": "a27815b252356ffe",
   "outputs": [
    {
     "data": {
      "text/plain": [
       "{'1.txt': {'data': 1, 'scienc': 1, 'import': 1, 'field': 1},\n",
       " '2.txt': {'machin': 1, 'learn': 1, 'field': 1, 'data': 1, 'scienc': 1},\n",
       " '3.txt': {'car': 1, 'driven': 1, 'road': 1},\n",
       " '4.txt': {'truck': 1, 'driven': 1, 'highway': 1}}"
      ]
     },
     "execution_count": 85,
     "metadata": {},
     "output_type": "execute_result"
    }
   ],
   "execution_count": 85
  },
  {
   "metadata": {
    "ExecuteTime": {
     "end_time": "2025-08-20T03:37:17.217287Z",
     "start_time": "2025-08-20T03:37:17.192466Z"
    }
   },
   "cell_type": "code",
   "source": [
    "import pandas as pd\n",
    "binary_tdm_scratch = pd.DataFrame(doc_count)"
   ],
   "id": "f6fd0c8f3bc20957",
   "outputs": [],
   "execution_count": 88
  },
  {
   "metadata": {
    "ExecuteTime": {
     "end_time": "2025-08-20T03:37:24.903756Z",
     "start_time": "2025-08-20T03:37:24.866270Z"
    }
   },
   "cell_type": "code",
   "source": "binary_tdm_scratch",
   "id": "a556814b39ad7327",
   "outputs": [
    {
     "data": {
      "text/plain": [
       "         1.txt  2.txt  3.txt  4.txt\n",
       "data       1.0    1.0    NaN    NaN\n",
       "scienc     1.0    1.0    NaN    NaN\n",
       "import     1.0    NaN    NaN    NaN\n",
       "field      1.0    1.0    NaN    NaN\n",
       "machin     NaN    1.0    NaN    NaN\n",
       "learn      NaN    1.0    NaN    NaN\n",
       "car        NaN    NaN    1.0    NaN\n",
       "driven     NaN    NaN    1.0    1.0\n",
       "road       NaN    NaN    1.0    NaN\n",
       "truck      NaN    NaN    NaN    1.0\n",
       "highway    NaN    NaN    NaN    1.0"
      ],
      "text/html": [
       "<div>\n",
       "<style scoped>\n",
       "    .dataframe tbody tr th:only-of-type {\n",
       "        vertical-align: middle;\n",
       "    }\n",
       "\n",
       "    .dataframe tbody tr th {\n",
       "        vertical-align: top;\n",
       "    }\n",
       "\n",
       "    .dataframe thead th {\n",
       "        text-align: right;\n",
       "    }\n",
       "</style>\n",
       "<table border=\"1\" class=\"dataframe\">\n",
       "  <thead>\n",
       "    <tr style=\"text-align: right;\">\n",
       "      <th></th>\n",
       "      <th>1.txt</th>\n",
       "      <th>2.txt</th>\n",
       "      <th>3.txt</th>\n",
       "      <th>4.txt</th>\n",
       "    </tr>\n",
       "  </thead>\n",
       "  <tbody>\n",
       "    <tr>\n",
       "      <th>data</th>\n",
       "      <td>1.0</td>\n",
       "      <td>1.0</td>\n",
       "      <td>NaN</td>\n",
       "      <td>NaN</td>\n",
       "    </tr>\n",
       "    <tr>\n",
       "      <th>scienc</th>\n",
       "      <td>1.0</td>\n",
       "      <td>1.0</td>\n",
       "      <td>NaN</td>\n",
       "      <td>NaN</td>\n",
       "    </tr>\n",
       "    <tr>\n",
       "      <th>import</th>\n",
       "      <td>1.0</td>\n",
       "      <td>NaN</td>\n",
       "      <td>NaN</td>\n",
       "      <td>NaN</td>\n",
       "    </tr>\n",
       "    <tr>\n",
       "      <th>field</th>\n",
       "      <td>1.0</td>\n",
       "      <td>1.0</td>\n",
       "      <td>NaN</td>\n",
       "      <td>NaN</td>\n",
       "    </tr>\n",
       "    <tr>\n",
       "      <th>machin</th>\n",
       "      <td>NaN</td>\n",
       "      <td>1.0</td>\n",
       "      <td>NaN</td>\n",
       "      <td>NaN</td>\n",
       "    </tr>\n",
       "    <tr>\n",
       "      <th>learn</th>\n",
       "      <td>NaN</td>\n",
       "      <td>1.0</td>\n",
       "      <td>NaN</td>\n",
       "      <td>NaN</td>\n",
       "    </tr>\n",
       "    <tr>\n",
       "      <th>car</th>\n",
       "      <td>NaN</td>\n",
       "      <td>NaN</td>\n",
       "      <td>1.0</td>\n",
       "      <td>NaN</td>\n",
       "    </tr>\n",
       "    <tr>\n",
       "      <th>driven</th>\n",
       "      <td>NaN</td>\n",
       "      <td>NaN</td>\n",
       "      <td>1.0</td>\n",
       "      <td>1.0</td>\n",
       "    </tr>\n",
       "    <tr>\n",
       "      <th>road</th>\n",
       "      <td>NaN</td>\n",
       "      <td>NaN</td>\n",
       "      <td>1.0</td>\n",
       "      <td>NaN</td>\n",
       "    </tr>\n",
       "    <tr>\n",
       "      <th>truck</th>\n",
       "      <td>NaN</td>\n",
       "      <td>NaN</td>\n",
       "      <td>NaN</td>\n",
       "      <td>1.0</td>\n",
       "    </tr>\n",
       "    <tr>\n",
       "      <th>highway</th>\n",
       "      <td>NaN</td>\n",
       "      <td>NaN</td>\n",
       "      <td>NaN</td>\n",
       "      <td>1.0</td>\n",
       "    </tr>\n",
       "  </tbody>\n",
       "</table>\n",
       "</div>"
      ]
     },
     "execution_count": 89,
     "metadata": {},
     "output_type": "execute_result"
    }
   ],
   "execution_count": 89
  },
  {
   "metadata": {
    "ExecuteTime": {
     "end_time": "2025-08-20T03:38:04.614659Z",
     "start_time": "2025-08-20T03:38:04.595120Z"
    }
   },
   "cell_type": "code",
   "source": "binary_tdm_scratch.fillna(0,inplace=True)",
   "id": "5f70b1f89fa8a8c",
   "outputs": [],
   "execution_count": 91
  },
  {
   "metadata": {
    "ExecuteTime": {
     "end_time": "2025-08-20T03:38:10.118184Z",
     "start_time": "2025-08-20T03:38:10.087025Z"
    }
   },
   "cell_type": "code",
   "source": "binary_tdm_scratch",
   "id": "46f19161e29491a",
   "outputs": [
    {
     "data": {
      "text/plain": [
       "         1.txt  2.txt  3.txt  4.txt\n",
       "data       1.0    1.0    0.0    0.0\n",
       "scienc     1.0    1.0    0.0    0.0\n",
       "import     1.0    0.0    0.0    0.0\n",
       "field      1.0    1.0    0.0    0.0\n",
       "machin     0.0    1.0    0.0    0.0\n",
       "learn      0.0    1.0    0.0    0.0\n",
       "car        0.0    0.0    1.0    0.0\n",
       "driven     0.0    0.0    1.0    1.0\n",
       "road       0.0    0.0    1.0    0.0\n",
       "truck      0.0    0.0    0.0    1.0\n",
       "highway    0.0    0.0    0.0    1.0"
      ],
      "text/html": [
       "<div>\n",
       "<style scoped>\n",
       "    .dataframe tbody tr th:only-of-type {\n",
       "        vertical-align: middle;\n",
       "    }\n",
       "\n",
       "    .dataframe tbody tr th {\n",
       "        vertical-align: top;\n",
       "    }\n",
       "\n",
       "    .dataframe thead th {\n",
       "        text-align: right;\n",
       "    }\n",
       "</style>\n",
       "<table border=\"1\" class=\"dataframe\">\n",
       "  <thead>\n",
       "    <tr style=\"text-align: right;\">\n",
       "      <th></th>\n",
       "      <th>1.txt</th>\n",
       "      <th>2.txt</th>\n",
       "      <th>3.txt</th>\n",
       "      <th>4.txt</th>\n",
       "    </tr>\n",
       "  </thead>\n",
       "  <tbody>\n",
       "    <tr>\n",
       "      <th>data</th>\n",
       "      <td>1.0</td>\n",
       "      <td>1.0</td>\n",
       "      <td>0.0</td>\n",
       "      <td>0.0</td>\n",
       "    </tr>\n",
       "    <tr>\n",
       "      <th>scienc</th>\n",
       "      <td>1.0</td>\n",
       "      <td>1.0</td>\n",
       "      <td>0.0</td>\n",
       "      <td>0.0</td>\n",
       "    </tr>\n",
       "    <tr>\n",
       "      <th>import</th>\n",
       "      <td>1.0</td>\n",
       "      <td>0.0</td>\n",
       "      <td>0.0</td>\n",
       "      <td>0.0</td>\n",
       "    </tr>\n",
       "    <tr>\n",
       "      <th>field</th>\n",
       "      <td>1.0</td>\n",
       "      <td>1.0</td>\n",
       "      <td>0.0</td>\n",
       "      <td>0.0</td>\n",
       "    </tr>\n",
       "    <tr>\n",
       "      <th>machin</th>\n",
       "      <td>0.0</td>\n",
       "      <td>1.0</td>\n",
       "      <td>0.0</td>\n",
       "      <td>0.0</td>\n",
       "    </tr>\n",
       "    <tr>\n",
       "      <th>learn</th>\n",
       "      <td>0.0</td>\n",
       "      <td>1.0</td>\n",
       "      <td>0.0</td>\n",
       "      <td>0.0</td>\n",
       "    </tr>\n",
       "    <tr>\n",
       "      <th>car</th>\n",
       "      <td>0.0</td>\n",
       "      <td>0.0</td>\n",
       "      <td>1.0</td>\n",
       "      <td>0.0</td>\n",
       "    </tr>\n",
       "    <tr>\n",
       "      <th>driven</th>\n",
       "      <td>0.0</td>\n",
       "      <td>0.0</td>\n",
       "      <td>1.0</td>\n",
       "      <td>1.0</td>\n",
       "    </tr>\n",
       "    <tr>\n",
       "      <th>road</th>\n",
       "      <td>0.0</td>\n",
       "      <td>0.0</td>\n",
       "      <td>1.0</td>\n",
       "      <td>0.0</td>\n",
       "    </tr>\n",
       "    <tr>\n",
       "      <th>truck</th>\n",
       "      <td>0.0</td>\n",
       "      <td>0.0</td>\n",
       "      <td>0.0</td>\n",
       "      <td>1.0</td>\n",
       "    </tr>\n",
       "    <tr>\n",
       "      <th>highway</th>\n",
       "      <td>0.0</td>\n",
       "      <td>0.0</td>\n",
       "      <td>0.0</td>\n",
       "      <td>1.0</td>\n",
       "    </tr>\n",
       "  </tbody>\n",
       "</table>\n",
       "</div>"
      ]
     },
     "execution_count": 92,
     "metadata": {},
     "output_type": "execute_result"
    }
   ],
   "execution_count": 92
  },
  {
   "metadata": {
    "ExecuteTime": {
     "end_time": "2025-08-20T03:54:34.319191Z",
     "start_time": "2025-08-20T03:54:34.284387Z"
    }
   },
   "cell_type": "code",
   "source": [
    "from sklearn.feature_extraction.text import CountVectorizer\n",
    "cv = CountVectorizer(binary=True)\n",
    "X = cv.fit_transform(final)"
   ],
   "id": "63e2bac20f25a9ab",
   "outputs": [],
   "execution_count": 93
  },
  {
   "metadata": {
    "ExecuteTime": {
     "end_time": "2025-08-20T04:00:32.043385Z",
     "start_time": "2025-08-20T04:00:32.034100Z"
    }
   },
   "cell_type": "code",
   "source": "binary_tdm_inbuilt = pd.DataFrame(X.toarray().T,columns=filenames,index=cv.get_feature_names_out())",
   "id": "4ceb6a90d238519d",
   "outputs": [],
   "execution_count": 102
  },
  {
   "metadata": {
    "ExecuteTime": {
     "end_time": "2025-08-20T04:00:33.938298Z",
     "start_time": "2025-08-20T04:00:33.930792Z"
    }
   },
   "cell_type": "code",
   "source": "binary_tdm_inbuilt",
   "id": "149eaa421c214a3b",
   "outputs": [
    {
     "data": {
      "text/plain": [
       "         1.txt  2.txt  3.txt  4.txt\n",
       "car          0      0      1      0\n",
       "data         1      1      0      0\n",
       "driven       0      0      1      1\n",
       "field        1      1      0      0\n",
       "highway      0      0      0      1\n",
       "import       1      0      0      0\n",
       "learn        0      1      0      0\n",
       "machin       0      1      0      0\n",
       "road         0      0      1      0\n",
       "scienc       1      1      0      0\n",
       "truck        0      0      0      1"
      ],
      "text/html": [
       "<div>\n",
       "<style scoped>\n",
       "    .dataframe tbody tr th:only-of-type {\n",
       "        vertical-align: middle;\n",
       "    }\n",
       "\n",
       "    .dataframe tbody tr th {\n",
       "        vertical-align: top;\n",
       "    }\n",
       "\n",
       "    .dataframe thead th {\n",
       "        text-align: right;\n",
       "    }\n",
       "</style>\n",
       "<table border=\"1\" class=\"dataframe\">\n",
       "  <thead>\n",
       "    <tr style=\"text-align: right;\">\n",
       "      <th></th>\n",
       "      <th>1.txt</th>\n",
       "      <th>2.txt</th>\n",
       "      <th>3.txt</th>\n",
       "      <th>4.txt</th>\n",
       "    </tr>\n",
       "  </thead>\n",
       "  <tbody>\n",
       "    <tr>\n",
       "      <th>car</th>\n",
       "      <td>0</td>\n",
       "      <td>0</td>\n",
       "      <td>1</td>\n",
       "      <td>0</td>\n",
       "    </tr>\n",
       "    <tr>\n",
       "      <th>data</th>\n",
       "      <td>1</td>\n",
       "      <td>1</td>\n",
       "      <td>0</td>\n",
       "      <td>0</td>\n",
       "    </tr>\n",
       "    <tr>\n",
       "      <th>driven</th>\n",
       "      <td>0</td>\n",
       "      <td>0</td>\n",
       "      <td>1</td>\n",
       "      <td>1</td>\n",
       "    </tr>\n",
       "    <tr>\n",
       "      <th>field</th>\n",
       "      <td>1</td>\n",
       "      <td>1</td>\n",
       "      <td>0</td>\n",
       "      <td>0</td>\n",
       "    </tr>\n",
       "    <tr>\n",
       "      <th>highway</th>\n",
       "      <td>0</td>\n",
       "      <td>0</td>\n",
       "      <td>0</td>\n",
       "      <td>1</td>\n",
       "    </tr>\n",
       "    <tr>\n",
       "      <th>import</th>\n",
       "      <td>1</td>\n",
       "      <td>0</td>\n",
       "      <td>0</td>\n",
       "      <td>0</td>\n",
       "    </tr>\n",
       "    <tr>\n",
       "      <th>learn</th>\n",
       "      <td>0</td>\n",
       "      <td>1</td>\n",
       "      <td>0</td>\n",
       "      <td>0</td>\n",
       "    </tr>\n",
       "    <tr>\n",
       "      <th>machin</th>\n",
       "      <td>0</td>\n",
       "      <td>1</td>\n",
       "      <td>0</td>\n",
       "      <td>0</td>\n",
       "    </tr>\n",
       "    <tr>\n",
       "      <th>road</th>\n",
       "      <td>0</td>\n",
       "      <td>0</td>\n",
       "      <td>1</td>\n",
       "      <td>0</td>\n",
       "    </tr>\n",
       "    <tr>\n",
       "      <th>scienc</th>\n",
       "      <td>1</td>\n",
       "      <td>1</td>\n",
       "      <td>0</td>\n",
       "      <td>0</td>\n",
       "    </tr>\n",
       "    <tr>\n",
       "      <th>truck</th>\n",
       "      <td>0</td>\n",
       "      <td>0</td>\n",
       "      <td>0</td>\n",
       "      <td>1</td>\n",
       "    </tr>\n",
       "  </tbody>\n",
       "</table>\n",
       "</div>"
      ]
     },
     "execution_count": 103,
     "metadata": {},
     "output_type": "execute_result"
    }
   ],
   "execution_count": 103
  },
  {
   "metadata": {
    "ExecuteTime": {
     "end_time": "2025-08-20T04:04:23.054169Z",
     "start_time": "2025-08-20T04:04:23.039890Z"
    }
   },
   "cell_type": "code",
   "source": [
    "from sklearn.feature_extraction.text import CountVectorizer\n",
    "cv1= CountVectorizer()\n",
    "x = cv1.fit_transform(final)\n",
    "tf_tdm_inbuilt = pd.DataFrame(X.toarray().T,columns=filenames,index=cv.get_feature_names_out())"
   ],
   "id": "966d1f179e74ad18",
   "outputs": [],
   "execution_count": 105
  },
  {
   "metadata": {
    "ExecuteTime": {
     "end_time": "2025-08-20T04:07:34.770815Z",
     "start_time": "2025-08-20T04:07:34.761815Z"
    }
   },
   "cell_type": "code",
   "source": [
    "doc_count1={}\n",
    "for i in range(len(final)):\n",
    "    word_count1 = {}\n",
    "    for word in final[i].split():\n",
    "        if word not in word_count1.keys():\n",
    "            word_count1[word] = 0\n",
    "\n",
    "        word_count1[word] += 1\n",
    "    doc_count1[filenames[i]]=word_count1\n"
   ],
   "id": "6baa6a12e438537",
   "outputs": [],
   "execution_count": 106
  },
  {
   "metadata": {
    "ExecuteTime": {
     "end_time": "2025-08-20T04:07:36.836223Z",
     "start_time": "2025-08-20T04:07:36.831876Z"
    }
   },
   "cell_type": "code",
   "source": "doc_count1",
   "id": "8df5c6de8b986a93",
   "outputs": [
    {
     "data": {
      "text/plain": [
       "{'1.txt': {'data': 1, 'scienc': 2, 'import': 1, 'field': 1},\n",
       " '2.txt': {'machin': 1, 'learn': 1, 'field': 1, 'data': 1, 'scienc': 1},\n",
       " '3.txt': {'car': 1, 'driven': 1, 'road': 1},\n",
       " '4.txt': {'truck': 1, 'driven': 1, 'highway': 1}}"
      ]
     },
     "execution_count": 107,
     "metadata": {},
     "output_type": "execute_result"
    }
   ],
   "execution_count": 107
  },
  {
   "metadata": {
    "ExecuteTime": {
     "end_time": "2025-08-20T04:08:37.529372Z",
     "start_time": "2025-08-20T04:08:37.502973Z"
    }
   },
   "cell_type": "code",
   "source": [
    "    ltf_tdm_scratch = pd.DataFrame(doc_count1)\n",
    "tf_tdm_scratch.fillna(0,inplace=True)"
   ],
   "id": "7d7fdd2bb111ccb9",
   "outputs": [],
   "execution_count": 109
  },
  {
   "metadata": {
    "ExecuteTime": {
     "end_time": "2025-08-20T04:08:41.371458Z",
     "start_time": "2025-08-20T04:08:41.360226Z"
    }
   },
   "cell_type": "code",
   "source": "tf_tdm_scratch",
   "id": "d41be96e007b0991",
   "outputs": [
    {
     "data": {
      "text/plain": [
       "         1.txt  2.txt  3.txt  4.txt\n",
       "data       1.0    1.0    0.0    0.0\n",
       "scienc     2.0    1.0    0.0    0.0\n",
       "import     1.0    0.0    0.0    0.0\n",
       "field      1.0    1.0    0.0    0.0\n",
       "machin     0.0    1.0    0.0    0.0\n",
       "learn      0.0    1.0    0.0    0.0\n",
       "car        0.0    0.0    1.0    0.0\n",
       "driven     0.0    0.0    1.0    1.0\n",
       "road       0.0    0.0    1.0    0.0\n",
       "truck      0.0    0.0    0.0    1.0\n",
       "highway    0.0    0.0    0.0    1.0"
      ],
      "text/html": [
       "<div>\n",
       "<style scoped>\n",
       "    .dataframe tbody tr th:only-of-type {\n",
       "        vertical-align: middle;\n",
       "    }\n",
       "\n",
       "    .dataframe tbody tr th {\n",
       "        vertical-align: top;\n",
       "    }\n",
       "\n",
       "    .dataframe thead th {\n",
       "        text-align: right;\n",
       "    }\n",
       "</style>\n",
       "<table border=\"1\" class=\"dataframe\">\n",
       "  <thead>\n",
       "    <tr style=\"text-align: right;\">\n",
       "      <th></th>\n",
       "      <th>1.txt</th>\n",
       "      <th>2.txt</th>\n",
       "      <th>3.txt</th>\n",
       "      <th>4.txt</th>\n",
       "    </tr>\n",
       "  </thead>\n",
       "  <tbody>\n",
       "    <tr>\n",
       "      <th>data</th>\n",
       "      <td>1.0</td>\n",
       "      <td>1.0</td>\n",
       "      <td>0.0</td>\n",
       "      <td>0.0</td>\n",
       "    </tr>\n",
       "    <tr>\n",
       "      <th>scienc</th>\n",
       "      <td>2.0</td>\n",
       "      <td>1.0</td>\n",
       "      <td>0.0</td>\n",
       "      <td>0.0</td>\n",
       "    </tr>\n",
       "    <tr>\n",
       "      <th>import</th>\n",
       "      <td>1.0</td>\n",
       "      <td>0.0</td>\n",
       "      <td>0.0</td>\n",
       "      <td>0.0</td>\n",
       "    </tr>\n",
       "    <tr>\n",
       "      <th>field</th>\n",
       "      <td>1.0</td>\n",
       "      <td>1.0</td>\n",
       "      <td>0.0</td>\n",
       "      <td>0.0</td>\n",
       "    </tr>\n",
       "    <tr>\n",
       "      <th>machin</th>\n",
       "      <td>0.0</td>\n",
       "      <td>1.0</td>\n",
       "      <td>0.0</td>\n",
       "      <td>0.0</td>\n",
       "    </tr>\n",
       "    <tr>\n",
       "      <th>learn</th>\n",
       "      <td>0.0</td>\n",
       "      <td>1.0</td>\n",
       "      <td>0.0</td>\n",
       "      <td>0.0</td>\n",
       "    </tr>\n",
       "    <tr>\n",
       "      <th>car</th>\n",
       "      <td>0.0</td>\n",
       "      <td>0.0</td>\n",
       "      <td>1.0</td>\n",
       "      <td>0.0</td>\n",
       "    </tr>\n",
       "    <tr>\n",
       "      <th>driven</th>\n",
       "      <td>0.0</td>\n",
       "      <td>0.0</td>\n",
       "      <td>1.0</td>\n",
       "      <td>1.0</td>\n",
       "    </tr>\n",
       "    <tr>\n",
       "      <th>road</th>\n",
       "      <td>0.0</td>\n",
       "      <td>0.0</td>\n",
       "      <td>1.0</td>\n",
       "      <td>0.0</td>\n",
       "    </tr>\n",
       "    <tr>\n",
       "      <th>truck</th>\n",
       "      <td>0.0</td>\n",
       "      <td>0.0</td>\n",
       "      <td>0.0</td>\n",
       "      <td>1.0</td>\n",
       "    </tr>\n",
       "    <tr>\n",
       "      <th>highway</th>\n",
       "      <td>0.0</td>\n",
       "      <td>0.0</td>\n",
       "      <td>0.0</td>\n",
       "      <td>1.0</td>\n",
       "    </tr>\n",
       "  </tbody>\n",
       "</table>\n",
       "</div>"
      ]
     },
     "execution_count": 110,
     "metadata": {},
     "output_type": "execute_result"
    }
   ],
   "execution_count": 110
  },
  {
   "metadata": {},
   "cell_type": "code",
   "outputs": [],
   "execution_count": null,
   "source": "",
   "id": "c878e1e464cfadc3"
  }
 ],
 "metadata": {
  "kernelspec": {
   "display_name": "Python 3",
   "language": "python",
   "name": "python3"
  },
  "language_info": {
   "codemirror_mode": {
    "name": "ipython",
    "version": 2
   },
   "file_extension": ".py",
   "mimetype": "text/x-python",
   "name": "python",
   "nbconvert_exporter": "python",
   "pygments_lexer": "ipython2",
   "version": "2.7.6"
  }
 },
 "nbformat": 4,
 "nbformat_minor": 5
}
