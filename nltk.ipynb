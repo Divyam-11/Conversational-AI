{
 "cells": [
  {
   "cell_type": "code",
   "id": "initial_id",
   "metadata": {
    "collapsed": true,
    "ExecuteTime": {
     "end_time": "2025-09-03T02:44:11.565052Z",
     "start_time": "2025-09-03T02:44:11.545944Z"
    }
   },
   "source": [
    "import nltk\n",
    "import pandas as pd\n",
    "from nltk.corpus import PlaintextCorpusReader, stopwords\n",
    "from pathlib import Path\n",
    "\n",
    "from nltk.corpus.reader import documents"
   ],
   "outputs": [],
   "execution_count": 16
  },
  {
   "metadata": {
    "ExecuteTime": {
     "end_time": "2025-09-03T02:44:11.598753Z",
     "start_time": "2025-09-03T02:44:11.592008Z"
    }
   },
   "cell_type": "code",
   "source": "nltk.download('punkt_tab')",
   "id": "fc51ce60fcfeecdb",
   "outputs": [
    {
     "name": "stderr",
     "output_type": "stream",
     "text": [
      "[nltk_data] Downloading package punkt_tab to\n",
      "[nltk_data]     /Users/divyam/nltk_data...\n",
      "[nltk_data]   Package punkt_tab is already up-to-date!\n"
     ]
    },
    {
     "data": {
      "text/plain": [
       "True"
      ]
     },
     "execution_count": 17,
     "metadata": {},
     "output_type": "execute_result"
    }
   ],
   "execution_count": 17
  },
  {
   "metadata": {
    "ExecuteTime": {
     "end_time": "2025-09-03T02:44:11.668804Z",
     "start_time": "2025-09-03T02:44:11.664381Z"
    }
   },
   "cell_type": "code",
   "source": [
    "path = \"dataset\"\n",
    "docs = PlaintextCorpusReader(path,'.*\\.txt')"
   ],
   "id": "f3e65322a9aa6515",
   "outputs": [
    {
     "name": "stderr",
     "output_type": "stream",
     "text": [
      "<>:2: SyntaxWarning: invalid escape sequence '\\.'\n",
      "<>:2: SyntaxWarning: invalid escape sequence '\\.'\n",
      "/var/folders/n1/pmp24v296pd80dfsymy4h0100000gn/T/ipykernel_37834/3366376250.py:2: SyntaxWarning: invalid escape sequence '\\.'\n",
      "  docs = PlaintextCorpusReader(path,'.*\\.txt')\n"
     ]
    }
   ],
   "execution_count": 18
  },
  {
   "metadata": {
    "ExecuteTime": {
     "end_time": "2025-09-03T02:44:11.764606Z",
     "start_time": "2025-09-03T02:44:11.760018Z"
    }
   },
   "cell_type": "code",
   "source": [
    "from nltk.corpus import PlaintextCorpusReader\n",
    "\n",
    "corpus_root = \"dataset\"\n",
    "wordlists = PlaintextCorpusReader(corpus_root, '.*\\.txt')\n",
    "\n",
    "# Store all file names\n",
    "filenames = wordlists.fileids()\n",
    "\n",
    "print(filenames)   # ['file1.txt', 'file2.txt', 'file3.txt', 'file4.txt']"
   ],
   "id": "9010d20fe1a902d1",
   "outputs": [
    {
     "name": "stdout",
     "output_type": "stream",
     "text": [
      "['1.txt', '2.txt', '3.txt', '4.txt']\n"
     ]
    },
    {
     "name": "stderr",
     "output_type": "stream",
     "text": [
      "<>:4: SyntaxWarning: invalid escape sequence '\\.'\n",
      "<>:4: SyntaxWarning: invalid escape sequence '\\.'\n",
      "/var/folders/n1/pmp24v296pd80dfsymy4h0100000gn/T/ipykernel_37834/1339599766.py:4: SyntaxWarning: invalid escape sequence '\\.'\n",
      "  wordlists = PlaintextCorpusReader(corpus_root, '.*\\.txt')\n"
     ]
    }
   ],
   "execution_count": 19
  },
  {
   "metadata": {
    "ExecuteTime": {
     "end_time": "2025-09-03T02:44:11.843238Z",
     "start_time": "2025-09-03T02:44:11.834746Z"
    }
   },
   "cell_type": "code",
   "source": "docs = [docs.raw(fileid) for fileid in docs.fileids()]",
   "id": "74953a01d317963b",
   "outputs": [],
   "execution_count": 20
  },
  {
   "metadata": {
    "ExecuteTime": {
     "end_time": "2025-09-03T02:44:11.911645Z",
     "start_time": "2025-09-03T02:44:11.906443Z"
    }
   },
   "cell_type": "code",
   "source": "docs",
   "id": "dec1408be5c03efe",
   "outputs": [
    {
     "data": {
      "text/plain": [
       "['Data Science is an important field of science',\n",
       " 'Machine learning is a field of Data Science',\n",
       " 'The cars are driven on the road',\n",
       " 'The trucks are driven on highway 234']"
      ]
     },
     "execution_count": 21,
     "metadata": {},
     "output_type": "execute_result"
    }
   ],
   "execution_count": 21
  },
  {
   "metadata": {
    "ExecuteTime": {
     "end_time": "2025-09-03T02:44:11.993281Z",
     "start_time": "2025-09-03T02:44:11.987162Z"
    }
   },
   "cell_type": "code",
   "source": [
    "norm_tokenize = []\n",
    "for doc in docs:\n",
    "    norm_tokenize.append([word.lower() for word in doc.split()])\n",
    "\n",
    "norm_tokenize"
   ],
   "id": "e710c0bb9e9d921c",
   "outputs": [
    {
     "data": {
      "text/plain": [
       "[['data', 'science', 'is', 'an', 'important', 'field', 'of', 'science'],\n",
       " ['machine', 'learning', 'is', 'a', 'field', 'of', 'data', 'science'],\n",
       " ['the', 'cars', 'are', 'driven', 'on', 'the', 'road'],\n",
       " ['the', 'trucks', 'are', 'driven', 'on', 'highway', '234']]"
      ]
     },
     "execution_count": 22,
     "metadata": {},
     "output_type": "execute_result"
    }
   ],
   "execution_count": 22
  },
  {
   "metadata": {
    "ExecuteTime": {
     "end_time": "2025-09-03T02:44:12.092522Z",
     "start_time": "2025-09-03T02:44:12.086402Z"
    }
   },
   "cell_type": "code",
   "source": [
    "norm_tokenize1 = []\n",
    "import re\n",
    "for doc in docs:\n",
    "    lower = ' '.join([word.lower() for word in doc.split()])\n",
    "    norm = re.sub('[^a-z\\s]','',lower)\n",
    "    norm_tokenize1.append(nltk.word_tokenize(norm))"
   ],
   "id": "bdbfbd077586db9f",
   "outputs": [
    {
     "name": "stderr",
     "output_type": "stream",
     "text": [
      "<>:5: SyntaxWarning: invalid escape sequence '\\s'\n",
      "<>:5: SyntaxWarning: invalid escape sequence '\\s'\n",
      "/var/folders/n1/pmp24v296pd80dfsymy4h0100000gn/T/ipykernel_37834/2117772255.py:5: SyntaxWarning: invalid escape sequence '\\s'\n",
      "  norm = re.sub('[^a-z\\s]','',lower)\n"
     ]
    }
   ],
   "execution_count": 23
  },
  {
   "metadata": {
    "ExecuteTime": {
     "end_time": "2025-09-03T02:44:12.179265Z",
     "start_time": "2025-09-03T02:44:12.174217Z"
    }
   },
   "cell_type": "code",
   "source": "norm_tokenize1",
   "id": "1316d190f41b11a9",
   "outputs": [
    {
     "data": {
      "text/plain": [
       "[['data', 'science', 'is', 'an', 'important', 'field', 'of', 'science'],\n",
       " ['machine', 'learning', 'is', 'a', 'field', 'of', 'data', 'science'],\n",
       " ['the', 'cars', 'are', 'driven', 'on', 'the', 'road'],\n",
       " ['the', 'trucks', 'are', 'driven', 'on', 'highway']]"
      ]
     },
     "execution_count": 24,
     "metadata": {},
     "output_type": "execute_result"
    }
   ],
   "execution_count": 24
  },
  {
   "metadata": {
    "ExecuteTime": {
     "end_time": "2025-09-03T02:44:12.256706Z",
     "start_time": "2025-09-03T02:44:12.251175Z"
    }
   },
   "cell_type": "code",
   "source": [
    "nltk.download('stopwords')\n",
    "stopwords_list = nltk.corpus.stopwords.words('english')\n",
    "nostop = []\n",
    "for doc in norm_tokenize1:\n",
    "   nostop.append([word for word in doc if word not in stopwords_list])"
   ],
   "id": "1787fad618b89275",
   "outputs": [
    {
     "name": "stderr",
     "output_type": "stream",
     "text": [
      "[nltk_data] Downloading package stopwords to\n",
      "[nltk_data]     /Users/divyam/nltk_data...\n",
      "[nltk_data]   Package stopwords is already up-to-date!\n"
     ]
    }
   ],
   "execution_count": 25
  },
  {
   "metadata": {
    "ExecuteTime": {
     "end_time": "2025-09-03T02:44:12.345195Z",
     "start_time": "2025-09-03T02:44:12.340057Z"
    }
   },
   "cell_type": "code",
   "source": "nostop",
   "id": "3b174a385d183687",
   "outputs": [
    {
     "data": {
      "text/plain": [
       "[['data', 'science', 'important', 'field', 'science'],\n",
       " ['machine', 'learning', 'field', 'data', 'science'],\n",
       " ['cars', 'driven', 'road'],\n",
       " ['trucks', 'driven', 'highway']]"
      ]
     },
     "execution_count": 26,
     "metadata": {},
     "output_type": "execute_result"
    }
   ],
   "execution_count": 26
  },
  {
   "metadata": {
    "ExecuteTime": {
     "end_time": "2025-09-03T02:44:12.410511Z",
     "start_time": "2025-09-03T02:44:12.405743Z"
    }
   },
   "cell_type": "code",
   "source": [
    "from nltk.stem import PorterStemmer\n",
    "ps = PorterStemmer()\n",
    "final = []\n",
    "for doc in nostop:\n",
    "    final.append(' '.join([ps.stem(word) for word in doc ]))\n",
    "nostop"
   ],
   "id": "1e2f4687c1c5ada4",
   "outputs": [
    {
     "data": {
      "text/plain": [
       "[['data', 'science', 'important', 'field', 'science'],\n",
       " ['machine', 'learning', 'field', 'data', 'science'],\n",
       " ['cars', 'driven', 'road'],\n",
       " ['trucks', 'driven', 'highway']]"
      ]
     },
     "execution_count": 27,
     "metadata": {},
     "output_type": "execute_result"
    }
   ],
   "execution_count": 27
  },
  {
   "metadata": {
    "ExecuteTime": {
     "end_time": "2025-09-03T02:44:12.472386Z",
     "start_time": "2025-09-03T02:44:12.467455Z"
    }
   },
   "cell_type": "code",
   "source": [
    "from nltk.stem import PorterStemmer\n",
    "ps = PorterStemmer()\n",
    "final = []\n",
    "for doc in nostop:\n",
    "    final.append(' '.join([ps.stem(word) for word in doc ]))\n",
    "nostop"
   ],
   "id": "561ebe7eba9307e",
   "outputs": [
    {
     "data": {
      "text/plain": [
       "[['data', 'science', 'important', 'field', 'science'],\n",
       " ['machine', 'learning', 'field', 'data', 'science'],\n",
       " ['cars', 'driven', 'road'],\n",
       " ['trucks', 'driven', 'highway']]"
      ]
     },
     "execution_count": 28,
     "metadata": {},
     "output_type": "execute_result"
    }
   ],
   "execution_count": 28
  },
  {
   "metadata": {
    "ExecuteTime": {
     "end_time": "2025-09-03T02:44:12.546447Z",
     "start_time": "2025-09-03T02:44:12.540538Z"
    }
   },
   "cell_type": "code",
   "source": [
    "from nltk.stem import LancasterStemmer\n",
    "ls = LancasterStemmer()\n",
    "final1 = []\n",
    "for doc in nostop:\n",
    "    final1.append(' '.join([ls.stem(word) for word in doc ]))\n",
    "nostop"
   ],
   "id": "ff44b0e24636b4dc",
   "outputs": [
    {
     "data": {
      "text/plain": [
       "[['data', 'science', 'important', 'field', 'science'],\n",
       " ['machine', 'learning', 'field', 'data', 'science'],\n",
       " ['cars', 'driven', 'road'],\n",
       " ['trucks', 'driven', 'highway']]"
      ]
     },
     "execution_count": 29,
     "metadata": {},
     "output_type": "execute_result"
    }
   ],
   "execution_count": 29
  },
  {
   "metadata": {
    "ExecuteTime": {
     "end_time": "2025-09-03T02:44:12.616155Z",
     "start_time": "2025-09-03T02:44:12.611781Z"
    }
   },
   "cell_type": "code",
   "source": "final1",
   "id": "c2fb6c8e99ed413e",
   "outputs": [
    {
     "data": {
      "text/plain": [
       "['dat sci import field sci',\n",
       " 'machin learn field dat sci',\n",
       " 'car driv road',\n",
       " 'truck driv highway']"
      ]
     },
     "execution_count": 30,
     "metadata": {},
     "output_type": "execute_result"
    }
   ],
   "execution_count": 30
  },
  {
   "metadata": {
    "ExecuteTime": {
     "end_time": "2025-09-03T02:44:15.329986Z",
     "start_time": "2025-09-03T02:44:12.679867Z"
    }
   },
   "cell_type": "code",
   "source": [
    "nltk.download('wordnet')\n",
    "from nltk.stem import WordNetLemmatizer\n",
    "final2 =[]\n",
    "wn = WordNetLemmatizer()\n",
    "for doc in nostop:\n",
    "    final2.append((' '.join([wn.lemmatize(word) for word in doc])))"
   ],
   "id": "c30adef075c731ce",
   "outputs": [
    {
     "name": "stderr",
     "output_type": "stream",
     "text": [
      "[nltk_data] Downloading package wordnet to /Users/divyam/nltk_data...\n",
      "[nltk_data]   Package wordnet is already up-to-date!\n"
     ]
    }
   ],
   "execution_count": 31
  },
  {
   "metadata": {
    "ExecuteTime": {
     "end_time": "2025-09-03T02:44:15.351424Z",
     "start_time": "2025-09-03T02:44:15.347505Z"
    }
   },
   "cell_type": "code",
   "source": "final2",
   "id": "a81dc432789c7217",
   "outputs": [
    {
     "data": {
      "text/plain": [
       "['data science important field science',\n",
       " 'machine learning field data science',\n",
       " 'car driven road',\n",
       " 'truck driven highway']"
      ]
     },
     "execution_count": 32,
     "metadata": {},
     "output_type": "execute_result"
    }
   ],
   "execution_count": 32
  },
  {
   "metadata": {},
   "cell_type": "markdown",
   "source": "### TDM",
   "id": "ae559e034996f65a"
  },
  {
   "metadata": {
    "ExecuteTime": {
     "end_time": "2025-09-03T02:44:15.508173Z",
     "start_time": "2025-09-03T02:44:15.505302Z"
    }
   },
   "cell_type": "code",
   "source": [
    "doc_count = {}\n",
    "for i in range(len(final)):\n",
    "    word_count = {}\n",
    "    for word in final[i].split():\n",
    "        if word not in word_count.keys():\n",
    "            word_count[word] = 1\n",
    "    doc_count[filenames[i]] = word_count\n"
   ],
   "id": "c93a6092ae09d16f",
   "outputs": [],
   "execution_count": 33
  },
  {
   "metadata": {
    "ExecuteTime": {
     "end_time": "2025-09-03T02:44:15.582382Z",
     "start_time": "2025-09-03T02:44:15.578663Z"
    }
   },
   "cell_type": "code",
   "source": "doc_count",
   "id": "a27815b252356ffe",
   "outputs": [
    {
     "data": {
      "text/plain": [
       "{'1.txt': {'data': 1, 'scienc': 1, 'import': 1, 'field': 1},\n",
       " '2.txt': {'machin': 1, 'learn': 1, 'field': 1, 'data': 1, 'scienc': 1},\n",
       " '3.txt': {'car': 1, 'driven': 1, 'road': 1},\n",
       " '4.txt': {'truck': 1, 'driven': 1, 'highway': 1}}"
      ]
     },
     "execution_count": 34,
     "metadata": {},
     "output_type": "execute_result"
    }
   ],
   "execution_count": 34
  },
  {
   "metadata": {
    "ExecuteTime": {
     "end_time": "2025-09-03T02:44:15.667207Z",
     "start_time": "2025-09-03T02:44:15.662167Z"
    }
   },
   "cell_type": "code",
   "source": [
    "import pandas as pd\n",
    "binary_tdm_scratch = pd.DataFrame(doc_count)"
   ],
   "id": "f6fd0c8f3bc20957",
   "outputs": [],
   "execution_count": 35
  },
  {
   "metadata": {
    "ExecuteTime": {
     "end_time": "2025-09-03T02:44:15.746741Z",
     "start_time": "2025-09-03T02:44:15.735190Z"
    }
   },
   "cell_type": "code",
   "source": "binary_tdm_scratch",
   "id": "a556814b39ad7327",
   "outputs": [
    {
     "data": {
      "text/plain": [
       "         1.txt  2.txt  3.txt  4.txt\n",
       "data       1.0    1.0    NaN    NaN\n",
       "scienc     1.0    1.0    NaN    NaN\n",
       "import     1.0    NaN    NaN    NaN\n",
       "field      1.0    1.0    NaN    NaN\n",
       "machin     NaN    1.0    NaN    NaN\n",
       "learn      NaN    1.0    NaN    NaN\n",
       "car        NaN    NaN    1.0    NaN\n",
       "driven     NaN    NaN    1.0    1.0\n",
       "road       NaN    NaN    1.0    NaN\n",
       "truck      NaN    NaN    NaN    1.0\n",
       "highway    NaN    NaN    NaN    1.0"
      ],
      "text/html": [
       "<div>\n",
       "<style scoped>\n",
       "    .dataframe tbody tr th:only-of-type {\n",
       "        vertical-align: middle;\n",
       "    }\n",
       "\n",
       "    .dataframe tbody tr th {\n",
       "        vertical-align: top;\n",
       "    }\n",
       "\n",
       "    .dataframe thead th {\n",
       "        text-align: right;\n",
       "    }\n",
       "</style>\n",
       "<table border=\"1\" class=\"dataframe\">\n",
       "  <thead>\n",
       "    <tr style=\"text-align: right;\">\n",
       "      <th></th>\n",
       "      <th>1.txt</th>\n",
       "      <th>2.txt</th>\n",
       "      <th>3.txt</th>\n",
       "      <th>4.txt</th>\n",
       "    </tr>\n",
       "  </thead>\n",
       "  <tbody>\n",
       "    <tr>\n",
       "      <th>data</th>\n",
       "      <td>1.0</td>\n",
       "      <td>1.0</td>\n",
       "      <td>NaN</td>\n",
       "      <td>NaN</td>\n",
       "    </tr>\n",
       "    <tr>\n",
       "      <th>scienc</th>\n",
       "      <td>1.0</td>\n",
       "      <td>1.0</td>\n",
       "      <td>NaN</td>\n",
       "      <td>NaN</td>\n",
       "    </tr>\n",
       "    <tr>\n",
       "      <th>import</th>\n",
       "      <td>1.0</td>\n",
       "      <td>NaN</td>\n",
       "      <td>NaN</td>\n",
       "      <td>NaN</td>\n",
       "    </tr>\n",
       "    <tr>\n",
       "      <th>field</th>\n",
       "      <td>1.0</td>\n",
       "      <td>1.0</td>\n",
       "      <td>NaN</td>\n",
       "      <td>NaN</td>\n",
       "    </tr>\n",
       "    <tr>\n",
       "      <th>machin</th>\n",
       "      <td>NaN</td>\n",
       "      <td>1.0</td>\n",
       "      <td>NaN</td>\n",
       "      <td>NaN</td>\n",
       "    </tr>\n",
       "    <tr>\n",
       "      <th>learn</th>\n",
       "      <td>NaN</td>\n",
       "      <td>1.0</td>\n",
       "      <td>NaN</td>\n",
       "      <td>NaN</td>\n",
       "    </tr>\n",
       "    <tr>\n",
       "      <th>car</th>\n",
       "      <td>NaN</td>\n",
       "      <td>NaN</td>\n",
       "      <td>1.0</td>\n",
       "      <td>NaN</td>\n",
       "    </tr>\n",
       "    <tr>\n",
       "      <th>driven</th>\n",
       "      <td>NaN</td>\n",
       "      <td>NaN</td>\n",
       "      <td>1.0</td>\n",
       "      <td>1.0</td>\n",
       "    </tr>\n",
       "    <tr>\n",
       "      <th>road</th>\n",
       "      <td>NaN</td>\n",
       "      <td>NaN</td>\n",
       "      <td>1.0</td>\n",
       "      <td>NaN</td>\n",
       "    </tr>\n",
       "    <tr>\n",
       "      <th>truck</th>\n",
       "      <td>NaN</td>\n",
       "      <td>NaN</td>\n",
       "      <td>NaN</td>\n",
       "      <td>1.0</td>\n",
       "    </tr>\n",
       "    <tr>\n",
       "      <th>highway</th>\n",
       "      <td>NaN</td>\n",
       "      <td>NaN</td>\n",
       "      <td>NaN</td>\n",
       "      <td>1.0</td>\n",
       "    </tr>\n",
       "  </tbody>\n",
       "</table>\n",
       "</div>"
      ]
     },
     "execution_count": 36,
     "metadata": {},
     "output_type": "execute_result"
    }
   ],
   "execution_count": 36
  },
  {
   "metadata": {
    "ExecuteTime": {
     "end_time": "2025-09-03T02:44:15.860137Z",
     "start_time": "2025-09-03T02:44:15.853110Z"
    }
   },
   "cell_type": "code",
   "source": "binary_tdm_scratch.fillna(0,inplace=True)",
   "id": "5f70b1f89fa8a8c",
   "outputs": [],
   "execution_count": 37
  },
  {
   "metadata": {
    "ExecuteTime": {
     "end_time": "2025-09-03T02:44:16.001064Z",
     "start_time": "2025-09-03T02:44:15.991037Z"
    }
   },
   "cell_type": "code",
   "source": "binary_tdm_scratch",
   "id": "46f19161e29491a",
   "outputs": [
    {
     "data": {
      "text/plain": [
       "         1.txt  2.txt  3.txt  4.txt\n",
       "data       1.0    1.0    0.0    0.0\n",
       "scienc     1.0    1.0    0.0    0.0\n",
       "import     1.0    0.0    0.0    0.0\n",
       "field      1.0    1.0    0.0    0.0\n",
       "machin     0.0    1.0    0.0    0.0\n",
       "learn      0.0    1.0    0.0    0.0\n",
       "car        0.0    0.0    1.0    0.0\n",
       "driven     0.0    0.0    1.0    1.0\n",
       "road       0.0    0.0    1.0    0.0\n",
       "truck      0.0    0.0    0.0    1.0\n",
       "highway    0.0    0.0    0.0    1.0"
      ],
      "text/html": [
       "<div>\n",
       "<style scoped>\n",
       "    .dataframe tbody tr th:only-of-type {\n",
       "        vertical-align: middle;\n",
       "    }\n",
       "\n",
       "    .dataframe tbody tr th {\n",
       "        vertical-align: top;\n",
       "    }\n",
       "\n",
       "    .dataframe thead th {\n",
       "        text-align: right;\n",
       "    }\n",
       "</style>\n",
       "<table border=\"1\" class=\"dataframe\">\n",
       "  <thead>\n",
       "    <tr style=\"text-align: right;\">\n",
       "      <th></th>\n",
       "      <th>1.txt</th>\n",
       "      <th>2.txt</th>\n",
       "      <th>3.txt</th>\n",
       "      <th>4.txt</th>\n",
       "    </tr>\n",
       "  </thead>\n",
       "  <tbody>\n",
       "    <tr>\n",
       "      <th>data</th>\n",
       "      <td>1.0</td>\n",
       "      <td>1.0</td>\n",
       "      <td>0.0</td>\n",
       "      <td>0.0</td>\n",
       "    </tr>\n",
       "    <tr>\n",
       "      <th>scienc</th>\n",
       "      <td>1.0</td>\n",
       "      <td>1.0</td>\n",
       "      <td>0.0</td>\n",
       "      <td>0.0</td>\n",
       "    </tr>\n",
       "    <tr>\n",
       "      <th>import</th>\n",
       "      <td>1.0</td>\n",
       "      <td>0.0</td>\n",
       "      <td>0.0</td>\n",
       "      <td>0.0</td>\n",
       "    </tr>\n",
       "    <tr>\n",
       "      <th>field</th>\n",
       "      <td>1.0</td>\n",
       "      <td>1.0</td>\n",
       "      <td>0.0</td>\n",
       "      <td>0.0</td>\n",
       "    </tr>\n",
       "    <tr>\n",
       "      <th>machin</th>\n",
       "      <td>0.0</td>\n",
       "      <td>1.0</td>\n",
       "      <td>0.0</td>\n",
       "      <td>0.0</td>\n",
       "    </tr>\n",
       "    <tr>\n",
       "      <th>learn</th>\n",
       "      <td>0.0</td>\n",
       "      <td>1.0</td>\n",
       "      <td>0.0</td>\n",
       "      <td>0.0</td>\n",
       "    </tr>\n",
       "    <tr>\n",
       "      <th>car</th>\n",
       "      <td>0.0</td>\n",
       "      <td>0.0</td>\n",
       "      <td>1.0</td>\n",
       "      <td>0.0</td>\n",
       "    </tr>\n",
       "    <tr>\n",
       "      <th>driven</th>\n",
       "      <td>0.0</td>\n",
       "      <td>0.0</td>\n",
       "      <td>1.0</td>\n",
       "      <td>1.0</td>\n",
       "    </tr>\n",
       "    <tr>\n",
       "      <th>road</th>\n",
       "      <td>0.0</td>\n",
       "      <td>0.0</td>\n",
       "      <td>1.0</td>\n",
       "      <td>0.0</td>\n",
       "    </tr>\n",
       "    <tr>\n",
       "      <th>truck</th>\n",
       "      <td>0.0</td>\n",
       "      <td>0.0</td>\n",
       "      <td>0.0</td>\n",
       "      <td>1.0</td>\n",
       "    </tr>\n",
       "    <tr>\n",
       "      <th>highway</th>\n",
       "      <td>0.0</td>\n",
       "      <td>0.0</td>\n",
       "      <td>0.0</td>\n",
       "      <td>1.0</td>\n",
       "    </tr>\n",
       "  </tbody>\n",
       "</table>\n",
       "</div>"
      ]
     },
     "execution_count": 38,
     "metadata": {},
     "output_type": "execute_result"
    }
   ],
   "execution_count": 38
  },
  {
   "metadata": {
    "ExecuteTime": {
     "end_time": "2025-09-03T02:44:16.295904Z",
     "start_time": "2025-09-03T02:44:16.283547Z"
    }
   },
   "cell_type": "code",
   "source": [
    "from sklearn.feature_extraction.text import CountVectorizer\n",
    "cv = CountVectorizer(binary=True)\n",
    "X = cv.fit_transform(final)"
   ],
   "id": "63e2bac20f25a9ab",
   "outputs": [],
   "execution_count": 39
  },
  {
   "metadata": {
    "ExecuteTime": {
     "end_time": "2025-09-03T02:44:16.549102Z",
     "start_time": "2025-09-03T02:44:16.545920Z"
    }
   },
   "cell_type": "code",
   "source": "binary_tdm_inbuilt = pd.DataFrame(X.toarray().T,columns=filenames,index=cv.get_feature_names_out())",
   "id": "4ceb6a90d238519d",
   "outputs": [],
   "execution_count": 40
  },
  {
   "metadata": {
    "ExecuteTime": {
     "end_time": "2025-09-03T02:44:16.692758Z",
     "start_time": "2025-09-03T02:44:16.686587Z"
    }
   },
   "cell_type": "code",
   "source": "binary_tdm_inbuilt",
   "id": "149eaa421c214a3b",
   "outputs": [
    {
     "data": {
      "text/plain": [
       "         1.txt  2.txt  3.txt  4.txt\n",
       "car          0      0      1      0\n",
       "data         1      1      0      0\n",
       "driven       0      0      1      1\n",
       "field        1      1      0      0\n",
       "highway      0      0      0      1\n",
       "import       1      0      0      0\n",
       "learn        0      1      0      0\n",
       "machin       0      1      0      0\n",
       "road         0      0      1      0\n",
       "scienc       1      1      0      0\n",
       "truck        0      0      0      1"
      ],
      "text/html": [
       "<div>\n",
       "<style scoped>\n",
       "    .dataframe tbody tr th:only-of-type {\n",
       "        vertical-align: middle;\n",
       "    }\n",
       "\n",
       "    .dataframe tbody tr th {\n",
       "        vertical-align: top;\n",
       "    }\n",
       "\n",
       "    .dataframe thead th {\n",
       "        text-align: right;\n",
       "    }\n",
       "</style>\n",
       "<table border=\"1\" class=\"dataframe\">\n",
       "  <thead>\n",
       "    <tr style=\"text-align: right;\">\n",
       "      <th></th>\n",
       "      <th>1.txt</th>\n",
       "      <th>2.txt</th>\n",
       "      <th>3.txt</th>\n",
       "      <th>4.txt</th>\n",
       "    </tr>\n",
       "  </thead>\n",
       "  <tbody>\n",
       "    <tr>\n",
       "      <th>car</th>\n",
       "      <td>0</td>\n",
       "      <td>0</td>\n",
       "      <td>1</td>\n",
       "      <td>0</td>\n",
       "    </tr>\n",
       "    <tr>\n",
       "      <th>data</th>\n",
       "      <td>1</td>\n",
       "      <td>1</td>\n",
       "      <td>0</td>\n",
       "      <td>0</td>\n",
       "    </tr>\n",
       "    <tr>\n",
       "      <th>driven</th>\n",
       "      <td>0</td>\n",
       "      <td>0</td>\n",
       "      <td>1</td>\n",
       "      <td>1</td>\n",
       "    </tr>\n",
       "    <tr>\n",
       "      <th>field</th>\n",
       "      <td>1</td>\n",
       "      <td>1</td>\n",
       "      <td>0</td>\n",
       "      <td>0</td>\n",
       "    </tr>\n",
       "    <tr>\n",
       "      <th>highway</th>\n",
       "      <td>0</td>\n",
       "      <td>0</td>\n",
       "      <td>0</td>\n",
       "      <td>1</td>\n",
       "    </tr>\n",
       "    <tr>\n",
       "      <th>import</th>\n",
       "      <td>1</td>\n",
       "      <td>0</td>\n",
       "      <td>0</td>\n",
       "      <td>0</td>\n",
       "    </tr>\n",
       "    <tr>\n",
       "      <th>learn</th>\n",
       "      <td>0</td>\n",
       "      <td>1</td>\n",
       "      <td>0</td>\n",
       "      <td>0</td>\n",
       "    </tr>\n",
       "    <tr>\n",
       "      <th>machin</th>\n",
       "      <td>0</td>\n",
       "      <td>1</td>\n",
       "      <td>0</td>\n",
       "      <td>0</td>\n",
       "    </tr>\n",
       "    <tr>\n",
       "      <th>road</th>\n",
       "      <td>0</td>\n",
       "      <td>0</td>\n",
       "      <td>1</td>\n",
       "      <td>0</td>\n",
       "    </tr>\n",
       "    <tr>\n",
       "      <th>scienc</th>\n",
       "      <td>1</td>\n",
       "      <td>1</td>\n",
       "      <td>0</td>\n",
       "      <td>0</td>\n",
       "    </tr>\n",
       "    <tr>\n",
       "      <th>truck</th>\n",
       "      <td>0</td>\n",
       "      <td>0</td>\n",
       "      <td>0</td>\n",
       "      <td>1</td>\n",
       "    </tr>\n",
       "  </tbody>\n",
       "</table>\n",
       "</div>"
      ]
     },
     "execution_count": 41,
     "metadata": {},
     "output_type": "execute_result"
    }
   ],
   "execution_count": 41
  },
  {
   "metadata": {
    "ExecuteTime": {
     "end_time": "2025-09-03T02:44:16.890453Z",
     "start_time": "2025-09-03T02:44:16.886220Z"
    }
   },
   "cell_type": "code",
   "source": [
    "from sklearn.feature_extraction.text import CountVectorizer\n",
    "cv1= CountVectorizer()\n",
    "x = cv1.fit_transform(final)\n",
    "tf_tdm_inbuilt = pd.DataFrame(X.toarray().T,columns=filenames,index=cv.get_feature_names_out())"
   ],
   "id": "966d1f179e74ad18",
   "outputs": [],
   "execution_count": 42
  },
  {
   "metadata": {
    "ExecuteTime": {
     "end_time": "2025-09-03T02:44:17.035183Z",
     "start_time": "2025-09-03T02:44:17.031813Z"
    }
   },
   "cell_type": "code",
   "source": [
    "doc_count1={}\n",
    "for i in range(len(final)):\n",
    "    word_count1 = {}\n",
    "    for word in final[i].split():\n",
    "        if word not in word_count1.keys():\n",
    "            word_count1[word] = 0\n",
    "\n",
    "        word_count1[word] += 1\n",
    "    doc_count1[filenames[i]]=word_count1\n"
   ],
   "id": "6baa6a12e438537",
   "outputs": [],
   "execution_count": 43
  },
  {
   "metadata": {
    "ExecuteTime": {
     "end_time": "2025-09-03T02:44:17.207310Z",
     "start_time": "2025-09-03T02:44:17.202581Z"
    }
   },
   "cell_type": "code",
   "source": "doc_count1",
   "id": "8df5c6de8b986a93",
   "outputs": [
    {
     "data": {
      "text/plain": [
       "{'1.txt': {'data': 1, 'scienc': 2, 'import': 1, 'field': 1},\n",
       " '2.txt': {'machin': 1, 'learn': 1, 'field': 1, 'data': 1, 'scienc': 1},\n",
       " '3.txt': {'car': 1, 'driven': 1, 'road': 1},\n",
       " '4.txt': {'truck': 1, 'driven': 1, 'highway': 1}}"
      ]
     },
     "execution_count": 44,
     "metadata": {},
     "output_type": "execute_result"
    }
   ],
   "execution_count": 44
  },
  {
   "metadata": {
    "ExecuteTime": {
     "end_time": "2025-09-03T02:45:36.701726Z",
     "start_time": "2025-09-03T02:45:36.668023Z"
    }
   },
   "cell_type": "code",
   "source": [
    "tf_tdm_scratch = pd.DataFrame(doc_count1)\n",
    "tf_tdm_scratch.fillna(0,inplace=True)"
   ],
   "id": "7d7fdd2bb111ccb9",
   "outputs": [],
   "execution_count": 47
  },
  {
   "metadata": {
    "ExecuteTime": {
     "end_time": "2025-09-03T02:45:37.089381Z",
     "start_time": "2025-09-03T02:45:37.073826Z"
    }
   },
   "cell_type": "code",
   "source": "tf_tdm_scratch",
   "id": "d41be96e007b0991",
   "outputs": [
    {
     "data": {
      "text/plain": [
       "         1.txt  2.txt  3.txt  4.txt\n",
       "data       1.0    1.0    0.0    0.0\n",
       "scienc     2.0    1.0    0.0    0.0\n",
       "import     1.0    0.0    0.0    0.0\n",
       "field      1.0    1.0    0.0    0.0\n",
       "machin     0.0    1.0    0.0    0.0\n",
       "learn      0.0    1.0    0.0    0.0\n",
       "car        0.0    0.0    1.0    0.0\n",
       "driven     0.0    0.0    1.0    1.0\n",
       "road       0.0    0.0    1.0    0.0\n",
       "truck      0.0    0.0    0.0    1.0\n",
       "highway    0.0    0.0    0.0    1.0"
      ],
      "text/html": [
       "<div>\n",
       "<style scoped>\n",
       "    .dataframe tbody tr th:only-of-type {\n",
       "        vertical-align: middle;\n",
       "    }\n",
       "\n",
       "    .dataframe tbody tr th {\n",
       "        vertical-align: top;\n",
       "    }\n",
       "\n",
       "    .dataframe thead th {\n",
       "        text-align: right;\n",
       "    }\n",
       "</style>\n",
       "<table border=\"1\" class=\"dataframe\">\n",
       "  <thead>\n",
       "    <tr style=\"text-align: right;\">\n",
       "      <th></th>\n",
       "      <th>1.txt</th>\n",
       "      <th>2.txt</th>\n",
       "      <th>3.txt</th>\n",
       "      <th>4.txt</th>\n",
       "    </tr>\n",
       "  </thead>\n",
       "  <tbody>\n",
       "    <tr>\n",
       "      <th>data</th>\n",
       "      <td>1.0</td>\n",
       "      <td>1.0</td>\n",
       "      <td>0.0</td>\n",
       "      <td>0.0</td>\n",
       "    </tr>\n",
       "    <tr>\n",
       "      <th>scienc</th>\n",
       "      <td>2.0</td>\n",
       "      <td>1.0</td>\n",
       "      <td>0.0</td>\n",
       "      <td>0.0</td>\n",
       "    </tr>\n",
       "    <tr>\n",
       "      <th>import</th>\n",
       "      <td>1.0</td>\n",
       "      <td>0.0</td>\n",
       "      <td>0.0</td>\n",
       "      <td>0.0</td>\n",
       "    </tr>\n",
       "    <tr>\n",
       "      <th>field</th>\n",
       "      <td>1.0</td>\n",
       "      <td>1.0</td>\n",
       "      <td>0.0</td>\n",
       "      <td>0.0</td>\n",
       "    </tr>\n",
       "    <tr>\n",
       "      <th>machin</th>\n",
       "      <td>0.0</td>\n",
       "      <td>1.0</td>\n",
       "      <td>0.0</td>\n",
       "      <td>0.0</td>\n",
       "    </tr>\n",
       "    <tr>\n",
       "      <th>learn</th>\n",
       "      <td>0.0</td>\n",
       "      <td>1.0</td>\n",
       "      <td>0.0</td>\n",
       "      <td>0.0</td>\n",
       "    </tr>\n",
       "    <tr>\n",
       "      <th>car</th>\n",
       "      <td>0.0</td>\n",
       "      <td>0.0</td>\n",
       "      <td>1.0</td>\n",
       "      <td>0.0</td>\n",
       "    </tr>\n",
       "    <tr>\n",
       "      <th>driven</th>\n",
       "      <td>0.0</td>\n",
       "      <td>0.0</td>\n",
       "      <td>1.0</td>\n",
       "      <td>1.0</td>\n",
       "    </tr>\n",
       "    <tr>\n",
       "      <th>road</th>\n",
       "      <td>0.0</td>\n",
       "      <td>0.0</td>\n",
       "      <td>1.0</td>\n",
       "      <td>0.0</td>\n",
       "    </tr>\n",
       "    <tr>\n",
       "      <th>truck</th>\n",
       "      <td>0.0</td>\n",
       "      <td>0.0</td>\n",
       "      <td>0.0</td>\n",
       "      <td>1.0</td>\n",
       "    </tr>\n",
       "    <tr>\n",
       "      <th>highway</th>\n",
       "      <td>0.0</td>\n",
       "      <td>0.0</td>\n",
       "      <td>0.0</td>\n",
       "      <td>1.0</td>\n",
       "    </tr>\n",
       "  </tbody>\n",
       "</table>\n",
       "</div>"
      ]
     },
     "execution_count": 48,
     "metadata": {},
     "output_type": "execute_result"
    }
   ],
   "execution_count": 48
  },
  {
   "metadata": {
    "ExecuteTime": {
     "end_time": "2025-09-03T02:45:56.682064Z",
     "start_time": "2025-09-03T02:45:56.661851Z"
    }
   },
   "cell_type": "code",
   "source": "len_tdm_scratch = ( tf_tdm_scratch.iloc[:,:].div(tf_tdm_scratch.sum(axis=0),axis=1))",
   "id": "c878e1e464cfadc3",
   "outputs": [],
   "execution_count": 51
  },
  {
   "metadata": {
    "ExecuteTime": {
     "end_time": "2025-09-03T02:50:28.386980Z",
     "start_time": "2025-09-03T02:50:28.358655Z"
    }
   },
   "cell_type": "code",
   "source": [
    "from sklearn.feature_extraction.text import TfidfVectorizer\n",
    "tf1=TfidfVectorizer(use_idf=False,norm='l1')\n",
    "X2 = tf1.fit_transform(final)"
   ],
   "id": "93670de82cceb783",
   "outputs": [],
   "execution_count": 56
  },
  {
   "metadata": {
    "ExecuteTime": {
     "end_time": "2025-09-03T02:50:30.606316Z",
     "start_time": "2025-09-03T02:50:30.602705Z"
    }
   },
   "cell_type": "code",
   "source": "print(X2)",
   "id": "7beb81fb43bc42ea",
   "outputs": [
    {
     "name": "stdout",
     "output_type": "stream",
     "text": [
      "<Compressed Sparse Row sparse matrix of dtype 'float64'\n",
      "\twith 15 stored elements and shape (4, 11)>\n",
      "  Coords\tValues\n",
      "  (0, 1)\t0.2\n",
      "  (0, 9)\t0.4\n",
      "  (0, 5)\t0.2\n",
      "  (0, 3)\t0.2\n",
      "  (1, 1)\t0.2\n",
      "  (1, 9)\t0.2\n",
      "  (1, 3)\t0.2\n",
      "  (1, 7)\t0.2\n",
      "  (1, 6)\t0.2\n",
      "  (2, 0)\t0.3333333333333333\n",
      "  (2, 2)\t0.3333333333333333\n",
      "  (2, 8)\t0.3333333333333333\n",
      "  (3, 2)\t0.3333333333333333\n",
      "  (3, 10)\t0.3333333333333333\n",
      "  (3, 4)\t0.3333333333333333\n"
     ]
    }
   ],
   "execution_count": 57
  },
  {
   "metadata": {
    "ExecuteTime": {
     "end_time": "2025-09-03T02:52:47.784329Z",
     "start_time": "2025-09-03T02:52:47.757688Z"
    }
   },
   "cell_type": "code",
   "source": "len_tdm_inbuilt = pd.DataFrame(X2.toarray().T,index=tf1.get_feature_names_out(),columns=filenames)",
   "id": "3a8c51579576b3d6",
   "outputs": [],
   "execution_count": 61
  },
  {
   "metadata": {
    "ExecuteTime": {
     "end_time": "2025-09-03T02:54:39.165521Z",
     "start_time": "2025-09-03T02:54:39.156656Z"
    }
   },
   "cell_type": "code",
   "source": "max_tdm_scratch = tf_tdm_scratch.iloc[:,:].div(tf_tdm_scratch.max(axis=0),axis=1)",
   "id": "c14b4d59d300e471",
   "outputs": [],
   "execution_count": 63
  },
  {
   "metadata": {
    "ExecuteTime": {
     "end_time": "2025-09-03T02:54:42.958294Z",
     "start_time": "2025-09-03T02:54:42.950391Z"
    }
   },
   "cell_type": "code",
   "source": "max_tdm_scratch",
   "id": "71f4be7eb2f526df",
   "outputs": [
    {
     "data": {
      "text/plain": [
       "         1.txt  2.txt  3.txt  4.txt\n",
       "data       0.5    1.0    0.0    0.0\n",
       "scienc     1.0    1.0    0.0    0.0\n",
       "import     0.5    0.0    0.0    0.0\n",
       "field      0.5    1.0    0.0    0.0\n",
       "machin     0.0    1.0    0.0    0.0\n",
       "learn      0.0    1.0    0.0    0.0\n",
       "car        0.0    0.0    1.0    0.0\n",
       "driven     0.0    0.0    1.0    1.0\n",
       "road       0.0    0.0    1.0    0.0\n",
       "truck      0.0    0.0    0.0    1.0\n",
       "highway    0.0    0.0    0.0    1.0"
      ],
      "text/html": [
       "<div>\n",
       "<style scoped>\n",
       "    .dataframe tbody tr th:only-of-type {\n",
       "        vertical-align: middle;\n",
       "    }\n",
       "\n",
       "    .dataframe tbody tr th {\n",
       "        vertical-align: top;\n",
       "    }\n",
       "\n",
       "    .dataframe thead th {\n",
       "        text-align: right;\n",
       "    }\n",
       "</style>\n",
       "<table border=\"1\" class=\"dataframe\">\n",
       "  <thead>\n",
       "    <tr style=\"text-align: right;\">\n",
       "      <th></th>\n",
       "      <th>1.txt</th>\n",
       "      <th>2.txt</th>\n",
       "      <th>3.txt</th>\n",
       "      <th>4.txt</th>\n",
       "    </tr>\n",
       "  </thead>\n",
       "  <tbody>\n",
       "    <tr>\n",
       "      <th>data</th>\n",
       "      <td>0.5</td>\n",
       "      <td>1.0</td>\n",
       "      <td>0.0</td>\n",
       "      <td>0.0</td>\n",
       "    </tr>\n",
       "    <tr>\n",
       "      <th>scienc</th>\n",
       "      <td>1.0</td>\n",
       "      <td>1.0</td>\n",
       "      <td>0.0</td>\n",
       "      <td>0.0</td>\n",
       "    </tr>\n",
       "    <tr>\n",
       "      <th>import</th>\n",
       "      <td>0.5</td>\n",
       "      <td>0.0</td>\n",
       "      <td>0.0</td>\n",
       "      <td>0.0</td>\n",
       "    </tr>\n",
       "    <tr>\n",
       "      <th>field</th>\n",
       "      <td>0.5</td>\n",
       "      <td>1.0</td>\n",
       "      <td>0.0</td>\n",
       "      <td>0.0</td>\n",
       "    </tr>\n",
       "    <tr>\n",
       "      <th>machin</th>\n",
       "      <td>0.0</td>\n",
       "      <td>1.0</td>\n",
       "      <td>0.0</td>\n",
       "      <td>0.0</td>\n",
       "    </tr>\n",
       "    <tr>\n",
       "      <th>learn</th>\n",
       "      <td>0.0</td>\n",
       "      <td>1.0</td>\n",
       "      <td>0.0</td>\n",
       "      <td>0.0</td>\n",
       "    </tr>\n",
       "    <tr>\n",
       "      <th>car</th>\n",
       "      <td>0.0</td>\n",
       "      <td>0.0</td>\n",
       "      <td>1.0</td>\n",
       "      <td>0.0</td>\n",
       "    </tr>\n",
       "    <tr>\n",
       "      <th>driven</th>\n",
       "      <td>0.0</td>\n",
       "      <td>0.0</td>\n",
       "      <td>1.0</td>\n",
       "      <td>1.0</td>\n",
       "    </tr>\n",
       "    <tr>\n",
       "      <th>road</th>\n",
       "      <td>0.0</td>\n",
       "      <td>0.0</td>\n",
       "      <td>1.0</td>\n",
       "      <td>0.0</td>\n",
       "    </tr>\n",
       "    <tr>\n",
       "      <th>truck</th>\n",
       "      <td>0.0</td>\n",
       "      <td>0.0</td>\n",
       "      <td>0.0</td>\n",
       "      <td>1.0</td>\n",
       "    </tr>\n",
       "    <tr>\n",
       "      <th>highway</th>\n",
       "      <td>0.0</td>\n",
       "      <td>0.0</td>\n",
       "      <td>0.0</td>\n",
       "      <td>1.0</td>\n",
       "    </tr>\n",
       "  </tbody>\n",
       "</table>\n",
       "</div>"
      ]
     },
     "execution_count": 64,
     "metadata": {},
     "output_type": "execute_result"
    }
   ],
   "execution_count": 64
  },
  {
   "metadata": {
    "ExecuteTime": {
     "end_time": "2025-09-03T02:56:09.034236Z",
     "start_time": "2025-09-03T02:56:09.016721Z"
    }
   },
   "cell_type": "code",
   "source": [
    "import numpy as np\n",
    "log_tdm_scratch = np.log(1+tf_tdm_scratch)"
   ],
   "id": "2de02b5defec9896",
   "outputs": [],
   "execution_count": 65
  },
  {
   "metadata": {
    "ExecuteTime": {
     "end_time": "2025-09-03T02:56:12.056194Z",
     "start_time": "2025-09-03T02:56:12.041895Z"
    }
   },
   "cell_type": "code",
   "source": "log_tdm_scratch",
   "id": "35dc58cb914d8b19",
   "outputs": [
    {
     "data": {
      "text/plain": [
       "            1.txt     2.txt     3.txt     4.txt\n",
       "data     0.693147  0.693147  0.000000  0.000000\n",
       "scienc   1.098612  0.693147  0.000000  0.000000\n",
       "import   0.693147  0.000000  0.000000  0.000000\n",
       "field    0.693147  0.693147  0.000000  0.000000\n",
       "machin   0.000000  0.693147  0.000000  0.000000\n",
       "learn    0.000000  0.693147  0.000000  0.000000\n",
       "car      0.000000  0.000000  0.693147  0.000000\n",
       "driven   0.000000  0.000000  0.693147  0.693147\n",
       "road     0.000000  0.000000  0.693147  0.000000\n",
       "truck    0.000000  0.000000  0.000000  0.693147\n",
       "highway  0.000000  0.000000  0.000000  0.693147"
      ],
      "text/html": [
       "<div>\n",
       "<style scoped>\n",
       "    .dataframe tbody tr th:only-of-type {\n",
       "        vertical-align: middle;\n",
       "    }\n",
       "\n",
       "    .dataframe tbody tr th {\n",
       "        vertical-align: top;\n",
       "    }\n",
       "\n",
       "    .dataframe thead th {\n",
       "        text-align: right;\n",
       "    }\n",
       "</style>\n",
       "<table border=\"1\" class=\"dataframe\">\n",
       "  <thead>\n",
       "    <tr style=\"text-align: right;\">\n",
       "      <th></th>\n",
       "      <th>1.txt</th>\n",
       "      <th>2.txt</th>\n",
       "      <th>3.txt</th>\n",
       "      <th>4.txt</th>\n",
       "    </tr>\n",
       "  </thead>\n",
       "  <tbody>\n",
       "    <tr>\n",
       "      <th>data</th>\n",
       "      <td>0.693147</td>\n",
       "      <td>0.693147</td>\n",
       "      <td>0.000000</td>\n",
       "      <td>0.000000</td>\n",
       "    </tr>\n",
       "    <tr>\n",
       "      <th>scienc</th>\n",
       "      <td>1.098612</td>\n",
       "      <td>0.693147</td>\n",
       "      <td>0.000000</td>\n",
       "      <td>0.000000</td>\n",
       "    </tr>\n",
       "    <tr>\n",
       "      <th>import</th>\n",
       "      <td>0.693147</td>\n",
       "      <td>0.000000</td>\n",
       "      <td>0.000000</td>\n",
       "      <td>0.000000</td>\n",
       "    </tr>\n",
       "    <tr>\n",
       "      <th>field</th>\n",
       "      <td>0.693147</td>\n",
       "      <td>0.693147</td>\n",
       "      <td>0.000000</td>\n",
       "      <td>0.000000</td>\n",
       "    </tr>\n",
       "    <tr>\n",
       "      <th>machin</th>\n",
       "      <td>0.000000</td>\n",
       "      <td>0.693147</td>\n",
       "      <td>0.000000</td>\n",
       "      <td>0.000000</td>\n",
       "    </tr>\n",
       "    <tr>\n",
       "      <th>learn</th>\n",
       "      <td>0.000000</td>\n",
       "      <td>0.693147</td>\n",
       "      <td>0.000000</td>\n",
       "      <td>0.000000</td>\n",
       "    </tr>\n",
       "    <tr>\n",
       "      <th>car</th>\n",
       "      <td>0.000000</td>\n",
       "      <td>0.000000</td>\n",
       "      <td>0.693147</td>\n",
       "      <td>0.000000</td>\n",
       "    </tr>\n",
       "    <tr>\n",
       "      <th>driven</th>\n",
       "      <td>0.000000</td>\n",
       "      <td>0.000000</td>\n",
       "      <td>0.693147</td>\n",
       "      <td>0.693147</td>\n",
       "    </tr>\n",
       "    <tr>\n",
       "      <th>road</th>\n",
       "      <td>0.000000</td>\n",
       "      <td>0.000000</td>\n",
       "      <td>0.693147</td>\n",
       "      <td>0.000000</td>\n",
       "    </tr>\n",
       "    <tr>\n",
       "      <th>truck</th>\n",
       "      <td>0.000000</td>\n",
       "      <td>0.000000</td>\n",
       "      <td>0.000000</td>\n",
       "      <td>0.693147</td>\n",
       "    </tr>\n",
       "    <tr>\n",
       "      <th>highway</th>\n",
       "      <td>0.000000</td>\n",
       "      <td>0.000000</td>\n",
       "      <td>0.000000</td>\n",
       "      <td>0.693147</td>\n",
       "    </tr>\n",
       "  </tbody>\n",
       "</table>\n",
       "</div>"
      ]
     },
     "execution_count": 66,
     "metadata": {},
     "output_type": "execute_result"
    }
   ],
   "execution_count": 66
  },
  {
   "metadata": {
    "ExecuteTime": {
     "end_time": "2025-09-03T03:01:30.872323Z",
     "start_time": "2025-09-03T03:01:30.866306Z"
    }
   },
   "cell_type": "code",
   "source": [
    "no_of_docs = len(final)\n",
    "unique_terms= tf_tdm_scratch.index"
   ],
   "id": "a37ad0f67fef4bbe",
   "outputs": [],
   "execution_count": 72
  },
  {
   "metadata": {
    "ExecuteTime": {
     "end_time": "2025-09-03T03:04:20.239752Z",
     "start_time": "2025-09-03T03:04:20.213753Z"
    }
   },
   "cell_type": "code",
   "source": [
    "idf_count = {}\n",
    "for term in unique_terms:\n",
    "    idf_count[term] = 0\n",
    "    for doc in final:\n",
    "        if term in doc.split():\n",
    "            idf_count[term]+=1\n",
    "    idf_count[term] = np.log(no_of_docs / idf_count[term])\n",
    "idf_count"
   ],
   "id": "bbe78a933b6948d1",
   "outputs": [
    {
     "data": {
      "text/plain": [
       "{'data': np.float64(0.6931471805599453),\n",
       " 'scienc': np.float64(0.6931471805599453),\n",
       " 'import': np.float64(1.3862943611198906),\n",
       " 'field': np.float64(0.6931471805599453),\n",
       " 'machin': np.float64(1.3862943611198906),\n",
       " 'learn': np.float64(1.3862943611198906),\n",
       " 'car': np.float64(1.3862943611198906),\n",
       " 'driven': np.float64(0.6931471805599453),\n",
       " 'road': np.float64(1.3862943611198906),\n",
       " 'truck': np.float64(1.3862943611198906),\n",
       " 'highway': np.float64(1.3862943611198906)}"
      ]
     },
     "execution_count": 73,
     "metadata": {},
     "output_type": "execute_result"
    }
   ],
   "execution_count": 73
  },
  {
   "metadata": {
    "ExecuteTime": {
     "end_time": "2025-09-03T03:07:28.693558Z",
     "start_time": "2025-09-03T03:07:28.674645Z"
    }
   },
   "cell_type": "code",
   "source": "idf = pd.DataFrame(pd.Series(idf_count),columns=['IDF Score'])",
   "id": "1978aab6b195cfec",
   "outputs": [],
   "execution_count": 74
  },
  {
   "metadata": {
    "ExecuteTime": {
     "end_time": "2025-09-03T03:09:34.368414Z",
     "start_time": "2025-09-03T03:09:34.324925Z"
    }
   },
   "cell_type": "code",
   "source": "tfidf_scatch = tf_tdm_scratch*idf.values",
   "id": "ad60db9de451a671",
   "outputs": [],
   "execution_count": 76
  },
  {
   "metadata": {
    "ExecuteTime": {
     "end_time": "2025-09-03T03:09:37.812353Z",
     "start_time": "2025-09-03T03:09:37.769263Z"
    }
   },
   "cell_type": "code",
   "source": "tfidf_scatch",
   "id": "1e957a6d3e943b35",
   "outputs": [
    {
     "data": {
      "text/plain": [
       "            1.txt     2.txt     3.txt     4.txt\n",
       "data     0.693147  0.693147  0.000000  0.000000\n",
       "scienc   1.386294  0.693147  0.000000  0.000000\n",
       "import   1.386294  0.000000  0.000000  0.000000\n",
       "field    0.693147  0.693147  0.000000  0.000000\n",
       "machin   0.000000  1.386294  0.000000  0.000000\n",
       "learn    0.000000  1.386294  0.000000  0.000000\n",
       "car      0.000000  0.000000  1.386294  0.000000\n",
       "driven   0.000000  0.000000  0.693147  0.693147\n",
       "road     0.000000  0.000000  1.386294  0.000000\n",
       "truck    0.000000  0.000000  0.000000  1.386294\n",
       "highway  0.000000  0.000000  0.000000  1.386294"
      ],
      "text/html": [
       "<div>\n",
       "<style scoped>\n",
       "    .dataframe tbody tr th:only-of-type {\n",
       "        vertical-align: middle;\n",
       "    }\n",
       "\n",
       "    .dataframe tbody tr th {\n",
       "        vertical-align: top;\n",
       "    }\n",
       "\n",
       "    .dataframe thead th {\n",
       "        text-align: right;\n",
       "    }\n",
       "</style>\n",
       "<table border=\"1\" class=\"dataframe\">\n",
       "  <thead>\n",
       "    <tr style=\"text-align: right;\">\n",
       "      <th></th>\n",
       "      <th>1.txt</th>\n",
       "      <th>2.txt</th>\n",
       "      <th>3.txt</th>\n",
       "      <th>4.txt</th>\n",
       "    </tr>\n",
       "  </thead>\n",
       "  <tbody>\n",
       "    <tr>\n",
       "      <th>data</th>\n",
       "      <td>0.693147</td>\n",
       "      <td>0.693147</td>\n",
       "      <td>0.000000</td>\n",
       "      <td>0.000000</td>\n",
       "    </tr>\n",
       "    <tr>\n",
       "      <th>scienc</th>\n",
       "      <td>1.386294</td>\n",
       "      <td>0.693147</td>\n",
       "      <td>0.000000</td>\n",
       "      <td>0.000000</td>\n",
       "    </tr>\n",
       "    <tr>\n",
       "      <th>import</th>\n",
       "      <td>1.386294</td>\n",
       "      <td>0.000000</td>\n",
       "      <td>0.000000</td>\n",
       "      <td>0.000000</td>\n",
       "    </tr>\n",
       "    <tr>\n",
       "      <th>field</th>\n",
       "      <td>0.693147</td>\n",
       "      <td>0.693147</td>\n",
       "      <td>0.000000</td>\n",
       "      <td>0.000000</td>\n",
       "    </tr>\n",
       "    <tr>\n",
       "      <th>machin</th>\n",
       "      <td>0.000000</td>\n",
       "      <td>1.386294</td>\n",
       "      <td>0.000000</td>\n",
       "      <td>0.000000</td>\n",
       "    </tr>\n",
       "    <tr>\n",
       "      <th>learn</th>\n",
       "      <td>0.000000</td>\n",
       "      <td>1.386294</td>\n",
       "      <td>0.000000</td>\n",
       "      <td>0.000000</td>\n",
       "    </tr>\n",
       "    <tr>\n",
       "      <th>car</th>\n",
       "      <td>0.000000</td>\n",
       "      <td>0.000000</td>\n",
       "      <td>1.386294</td>\n",
       "      <td>0.000000</td>\n",
       "    </tr>\n",
       "    <tr>\n",
       "      <th>driven</th>\n",
       "      <td>0.000000</td>\n",
       "      <td>0.000000</td>\n",
       "      <td>0.693147</td>\n",
       "      <td>0.693147</td>\n",
       "    </tr>\n",
       "    <tr>\n",
       "      <th>road</th>\n",
       "      <td>0.000000</td>\n",
       "      <td>0.000000</td>\n",
       "      <td>1.386294</td>\n",
       "      <td>0.000000</td>\n",
       "    </tr>\n",
       "    <tr>\n",
       "      <th>truck</th>\n",
       "      <td>0.000000</td>\n",
       "      <td>0.000000</td>\n",
       "      <td>0.000000</td>\n",
       "      <td>1.386294</td>\n",
       "    </tr>\n",
       "    <tr>\n",
       "      <th>highway</th>\n",
       "      <td>0.000000</td>\n",
       "      <td>0.000000</td>\n",
       "      <td>0.000000</td>\n",
       "      <td>1.386294</td>\n",
       "    </tr>\n",
       "  </tbody>\n",
       "</table>\n",
       "</div>"
      ]
     },
     "execution_count": 77,
     "metadata": {},
     "output_type": "execute_result"
    }
   ],
   "execution_count": 77
  },
  {
   "metadata": {
    "ExecuteTime": {
     "end_time": "2025-09-03T03:13:16.361067Z",
     "start_time": "2025-09-03T03:13:16.326527Z"
    }
   },
   "cell_type": "code",
   "source": [
    "from sklearn.feature_extraction.text import TfidfVectorizer\n",
    "tf2= TfidfVectorizer()\n",
    "X3 = tf2.fit_transform(final)\n",
    "tfidf_inbuilt = pd.DataFrame(X3.toarray().T,index=tf2.get_feature_names_out(),columns=filenames)"
   ],
   "id": "c11cec7e67747e28",
   "outputs": [],
   "execution_count": 82
  },
  {
   "metadata": {
    "ExecuteTime": {
     "end_time": "2025-09-03T03:25:32.997752Z",
     "start_time": "2025-09-03T03:25:32.935462Z"
    }
   },
   "cell_type": "code",
   "source": [
    "cooccur_matrix = np.dot(binary_tdm_scratch.values,binary_tdm_scratch.values.T)\n",
    "np.fill_diagonal(cooccur_matrix,0)\n",
    "cooccur_df = pd.DataFrame(cooccur_matrix,index=binary_tdm_scratch.index,columns=binary_tdm_scratch.index)"
   ],
   "id": "168069abd72852",
   "outputs": [],
   "execution_count": 90
  },
  {
   "metadata": {
    "ExecuteTime": {
     "end_time": "2025-09-03T03:25:35.860365Z",
     "start_time": "2025-09-03T03:25:35.837329Z"
    }
   },
   "cell_type": "code",
   "source": "cooccur_df",
   "id": "f3e0a670dd4b52f6",
   "outputs": [
    {
     "data": {
      "text/plain": [
       "         data  scienc  import  field  machin  learn  car  driven  road  truck  \\\n",
       "data      0.0     2.0     1.0    2.0     1.0    1.0  0.0     0.0   0.0    0.0   \n",
       "scienc    2.0     0.0     1.0    2.0     1.0    1.0  0.0     0.0   0.0    0.0   \n",
       "import    1.0     1.0     0.0    1.0     0.0    0.0  0.0     0.0   0.0    0.0   \n",
       "field     2.0     2.0     1.0    0.0     1.0    1.0  0.0     0.0   0.0    0.0   \n",
       "machin    1.0     1.0     0.0    1.0     0.0    1.0  0.0     0.0   0.0    0.0   \n",
       "learn     1.0     1.0     0.0    1.0     1.0    0.0  0.0     0.0   0.0    0.0   \n",
       "car       0.0     0.0     0.0    0.0     0.0    0.0  0.0     1.0   1.0    0.0   \n",
       "driven    0.0     0.0     0.0    0.0     0.0    0.0  1.0     0.0   1.0    1.0   \n",
       "road      0.0     0.0     0.0    0.0     0.0    0.0  1.0     1.0   0.0    0.0   \n",
       "truck     0.0     0.0     0.0    0.0     0.0    0.0  0.0     1.0   0.0    0.0   \n",
       "highway   0.0     0.0     0.0    0.0     0.0    0.0  0.0     1.0   0.0    1.0   \n",
       "\n",
       "         highway  \n",
       "data         0.0  \n",
       "scienc       0.0  \n",
       "import       0.0  \n",
       "field        0.0  \n",
       "machin       0.0  \n",
       "learn        0.0  \n",
       "car          0.0  \n",
       "driven       1.0  \n",
       "road         0.0  \n",
       "truck        1.0  \n",
       "highway      0.0  "
      ],
      "text/html": [
       "<div>\n",
       "<style scoped>\n",
       "    .dataframe tbody tr th:only-of-type {\n",
       "        vertical-align: middle;\n",
       "    }\n",
       "\n",
       "    .dataframe tbody tr th {\n",
       "        vertical-align: top;\n",
       "    }\n",
       "\n",
       "    .dataframe thead th {\n",
       "        text-align: right;\n",
       "    }\n",
       "</style>\n",
       "<table border=\"1\" class=\"dataframe\">\n",
       "  <thead>\n",
       "    <tr style=\"text-align: right;\">\n",
       "      <th></th>\n",
       "      <th>data</th>\n",
       "      <th>scienc</th>\n",
       "      <th>import</th>\n",
       "      <th>field</th>\n",
       "      <th>machin</th>\n",
       "      <th>learn</th>\n",
       "      <th>car</th>\n",
       "      <th>driven</th>\n",
       "      <th>road</th>\n",
       "      <th>truck</th>\n",
       "      <th>highway</th>\n",
       "    </tr>\n",
       "  </thead>\n",
       "  <tbody>\n",
       "    <tr>\n",
       "      <th>data</th>\n",
       "      <td>0.0</td>\n",
       "      <td>2.0</td>\n",
       "      <td>1.0</td>\n",
       "      <td>2.0</td>\n",
       "      <td>1.0</td>\n",
       "      <td>1.0</td>\n",
       "      <td>0.0</td>\n",
       "      <td>0.0</td>\n",
       "      <td>0.0</td>\n",
       "      <td>0.0</td>\n",
       "      <td>0.0</td>\n",
       "    </tr>\n",
       "    <tr>\n",
       "      <th>scienc</th>\n",
       "      <td>2.0</td>\n",
       "      <td>0.0</td>\n",
       "      <td>1.0</td>\n",
       "      <td>2.0</td>\n",
       "      <td>1.0</td>\n",
       "      <td>1.0</td>\n",
       "      <td>0.0</td>\n",
       "      <td>0.0</td>\n",
       "      <td>0.0</td>\n",
       "      <td>0.0</td>\n",
       "      <td>0.0</td>\n",
       "    </tr>\n",
       "    <tr>\n",
       "      <th>import</th>\n",
       "      <td>1.0</td>\n",
       "      <td>1.0</td>\n",
       "      <td>0.0</td>\n",
       "      <td>1.0</td>\n",
       "      <td>0.0</td>\n",
       "      <td>0.0</td>\n",
       "      <td>0.0</td>\n",
       "      <td>0.0</td>\n",
       "      <td>0.0</td>\n",
       "      <td>0.0</td>\n",
       "      <td>0.0</td>\n",
       "    </tr>\n",
       "    <tr>\n",
       "      <th>field</th>\n",
       "      <td>2.0</td>\n",
       "      <td>2.0</td>\n",
       "      <td>1.0</td>\n",
       "      <td>0.0</td>\n",
       "      <td>1.0</td>\n",
       "      <td>1.0</td>\n",
       "      <td>0.0</td>\n",
       "      <td>0.0</td>\n",
       "      <td>0.0</td>\n",
       "      <td>0.0</td>\n",
       "      <td>0.0</td>\n",
       "    </tr>\n",
       "    <tr>\n",
       "      <th>machin</th>\n",
       "      <td>1.0</td>\n",
       "      <td>1.0</td>\n",
       "      <td>0.0</td>\n",
       "      <td>1.0</td>\n",
       "      <td>0.0</td>\n",
       "      <td>1.0</td>\n",
       "      <td>0.0</td>\n",
       "      <td>0.0</td>\n",
       "      <td>0.0</td>\n",
       "      <td>0.0</td>\n",
       "      <td>0.0</td>\n",
       "    </tr>\n",
       "    <tr>\n",
       "      <th>learn</th>\n",
       "      <td>1.0</td>\n",
       "      <td>1.0</td>\n",
       "      <td>0.0</td>\n",
       "      <td>1.0</td>\n",
       "      <td>1.0</td>\n",
       "      <td>0.0</td>\n",
       "      <td>0.0</td>\n",
       "      <td>0.0</td>\n",
       "      <td>0.0</td>\n",
       "      <td>0.0</td>\n",
       "      <td>0.0</td>\n",
       "    </tr>\n",
       "    <tr>\n",
       "      <th>car</th>\n",
       "      <td>0.0</td>\n",
       "      <td>0.0</td>\n",
       "      <td>0.0</td>\n",
       "      <td>0.0</td>\n",
       "      <td>0.0</td>\n",
       "      <td>0.0</td>\n",
       "      <td>0.0</td>\n",
       "      <td>1.0</td>\n",
       "      <td>1.0</td>\n",
       "      <td>0.0</td>\n",
       "      <td>0.0</td>\n",
       "    </tr>\n",
       "    <tr>\n",
       "      <th>driven</th>\n",
       "      <td>0.0</td>\n",
       "      <td>0.0</td>\n",
       "      <td>0.0</td>\n",
       "      <td>0.0</td>\n",
       "      <td>0.0</td>\n",
       "      <td>0.0</td>\n",
       "      <td>1.0</td>\n",
       "      <td>0.0</td>\n",
       "      <td>1.0</td>\n",
       "      <td>1.0</td>\n",
       "      <td>1.0</td>\n",
       "    </tr>\n",
       "    <tr>\n",
       "      <th>road</th>\n",
       "      <td>0.0</td>\n",
       "      <td>0.0</td>\n",
       "      <td>0.0</td>\n",
       "      <td>0.0</td>\n",
       "      <td>0.0</td>\n",
       "      <td>0.0</td>\n",
       "      <td>1.0</td>\n",
       "      <td>1.0</td>\n",
       "      <td>0.0</td>\n",
       "      <td>0.0</td>\n",
       "      <td>0.0</td>\n",
       "    </tr>\n",
       "    <tr>\n",
       "      <th>truck</th>\n",
       "      <td>0.0</td>\n",
       "      <td>0.0</td>\n",
       "      <td>0.0</td>\n",
       "      <td>0.0</td>\n",
       "      <td>0.0</td>\n",
       "      <td>0.0</td>\n",
       "      <td>0.0</td>\n",
       "      <td>1.0</td>\n",
       "      <td>0.0</td>\n",
       "      <td>0.0</td>\n",
       "      <td>1.0</td>\n",
       "    </tr>\n",
       "    <tr>\n",
       "      <th>highway</th>\n",
       "      <td>0.0</td>\n",
       "      <td>0.0</td>\n",
       "      <td>0.0</td>\n",
       "      <td>0.0</td>\n",
       "      <td>0.0</td>\n",
       "      <td>0.0</td>\n",
       "      <td>0.0</td>\n",
       "      <td>1.0</td>\n",
       "      <td>0.0</td>\n",
       "      <td>1.0</td>\n",
       "      <td>0.0</td>\n",
       "    </tr>\n",
       "  </tbody>\n",
       "</table>\n",
       "</div>"
      ]
     },
     "execution_count": 91,
     "metadata": {},
     "output_type": "execute_result"
    }
   ],
   "execution_count": 91
  },
  {
   "metadata": {},
   "cell_type": "code",
   "outputs": [],
   "execution_count": null,
   "source": "",
   "id": "68f859da43c418dc"
  }
 ],
 "metadata": {
  "kernelspec": {
   "display_name": "Python 3",
   "language": "python",
   "name": "python3"
  },
  "language_info": {
   "codemirror_mode": {
    "name": "ipython",
    "version": 2
   },
   "file_extension": ".py",
   "mimetype": "text/x-python",
   "name": "python",
   "nbconvert_exporter": "python",
   "pygments_lexer": "ipython2",
   "version": "2.7.6"
  }
 },
 "nbformat": 4,
 "nbformat_minor": 5
}
